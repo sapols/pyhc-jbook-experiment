{
 "cells": [
  {
   "cell_type": "markdown",
   "id": "8f603911",
   "metadata": {
    "cell_id": "00000-882eb7bd-d4c2-4394-8b7b-b2a0193dc74b",
    "deepnote_cell_type": "text-cell-h1",
    "is_collapsed": false,
    "tags": []
   },
   "source": [
    "# Comparing Magnetopause Models to Spacecraft Observations with PyHC Packages"
   ]
  },
  {
   "cell_type": "markdown",
   "id": "c8a02350",
   "metadata": {
    "cell_id": "00001-54815270-fb17-458c-83cd-ede6f23166ad",
    "deepnote_cell_type": "markdown",
    "tags": []
   },
   "source": [
    "*Authors: Shawn Polson, Rebecca Ringuette, Lutz Rastaetter, Eric Grimes, Jonathan Niehof, Nicholas Murphy, Yihua Zheng*\n",
    "\n",
    "https://agu.confex.com/agu/fm21/meetingapp.cgi/Paper/911907"
   ]
  },
  {
   "cell_type": "markdown",
   "id": "0320ca5e",
   "metadata": {
    "cell_id": "00002-cadb97d2-2258-44f9-9484-d29acb5292f0",
    "deepnote_cell_type": "text-cell-h2",
    "is_collapsed": false,
    "tags": []
   },
   "source": [
    "## Table of contents"
   ]
  },
  {
   "cell_type": "markdown",
   "id": "86ef1ad2",
   "metadata": {
    "cell_id": "00003-3926bc56-6043-4494-8e2a-d126be621aaa",
    "deepnote_cell_type": "markdown",
    "tags": []
   },
   "source": [
    " * [Abstract](https://deepnote.com/project/PyHC-Paper-EBuWRj_QSXikjqTz5wigrA/%2FPyHC%20Science%20Paper-AGU.ipynb#00002-ec7743d6-f371-423d-9ce1-df33ca809d2b)\n",
    " * [Introduction](https://deepnote.com/project/PyHC-Paper-EBuWRj_QSXikjqTz5wigrA/%2FPyHC%20Science%20Paper-AGU.ipynb#00004-44154988-f663-48b1-b200-bdc46ecb7d85)\n",
    " * [Get MMS data from pySPEDAS](https://deepnote.com/project/PyHC-Paper-EBuWRj_QSXikjqTz5wigrA/%2FPyHC%20Science%20Paper-AGU.ipynb#00005-f68ecab7-9f53-4519-a036-b834b98718f8)\n",
    " * [Use the MMS data with SpacePy](https://deepnote.com/project/PyHC-Paper-EBuWRj_QSXikjqTz5wigrA/%2FPyHC%20Science%20Paper-AGU.ipynb#00009-e7193fd7-5d2b-445e-a046-f1cc04308fb5)\n",
    " * [Prepare data for PlasmaPy](https://deepnote.com/project/PyHC-Paper-EBuWRj_QSXikjqTz5wigrA/%2FPyHC%20Science%20Paper-AGU.ipynb#00018-e120b696-be5c-4a3e-a6e5-541ef471d42e)\n",
    " * [Calculate plasma parameters](https://deepnote.com/project/PyHC-Paper-EBuWRj_QSXikjqTz5wigrA/%2FPyHC%20Science%20Paper-AGU.ipynb#00029-94de09d9-9e7d-4cd0-b238-be9e84fc719a)\n",
    " * [Plot the plasma parameters and compare](https://deepnote.com/project/PyHC-Paper-EBuWRj_QSXikjqTz5wigrA/%2FPyHC%20Science%20Paper-AGU.ipynb#00054-1440f5e0-cb62-40d5-bccb-e40ffa4334de)\n",
    " * [Conclusion](https://deepnote.com/project/PyHC-Paper-EBuWRj_QSXikjqTz5wigrA/%2FPyHC%20Science%20Paper-AGU.ipynb#00061-340d7ce5-b6ba-4fff-943a-9269cc53212a)"
   ]
  },
  {
   "cell_type": "markdown",
   "id": "497bd40e",
   "metadata": {
    "cell_id": "00002-ec7743d6-f371-423d-9ce1-df33ca809d2b",
    "deepnote_cell_type": "text-cell-h2",
    "is_collapsed": false,
    "tags": []
   },
   "source": [
    "## Abstract"
   ]
  },
  {
   "cell_type": "markdown",
   "id": "ef6b9ded",
   "metadata": {
    "cell_id": "00001-0032b0d1-8d92-4cb3-876c-bf58a4efe60d",
    "deepnote_cell_type": "text-cell-p",
    "is_collapsed": false,
    "tags": []
   },
   "source": [
    "Here we demonstrate an adaptable Python workflow to detect magnetopause locations. We compare&nbsp;these locations to magnetopause models using real-world observations&nbsp;and show how simple it is to do using our software packages. We use pySPEDAS to get MMS data, we get models of the magnetopause and plot them with the MMS data using SpacePy, and we calculate plasma parameters from the MMS data with PlasmaPy to augment our detections of the crossings. Then we compare the locations of the detected crossings with those estimated by the model to test their accuracy."
   ]
  },
  {
   "cell_type": "markdown",
   "id": "cc16a2d0",
   "metadata": {
    "cell_id": "00004-44154988-f663-48b1-b200-bdc46ecb7d85",
    "deepnote_cell_type": "text-cell-h2",
    "is_collapsed": false,
    "tags": []
   },
   "source": [
    "## Introduction"
   ]
  },
  {
   "cell_type": "markdown",
   "id": "b6acb1ce",
   "metadata": {
    "cell_id": "00005-79a3d986-187a-4be8-81d6-63822bd8105d",
    "deepnote_cell_type": "markdown",
    "tags": []
   },
   "source": [
    "The Python in Heliophysics Community (PyHC) is a community that promotes and facilitates the use of Python for heliophysics. We host a number of useful software packages and showcase a few of them here. Our mission is to facilitate scientific discovery by promoting the use and development of sustainable open-source Python software across the solar and space physics community; to improve communication and collaboration between disciplines, developers, and users; to establish and maintain development standards; and to foster interoperability and reproducibility.\n",
    "\n",
    "In this paper, we compare magnetopause models to spacecraft observations to test the accuracy of the models. We use five PyHC packages to do this: pySPEDAS, SpacePy, PlasmaPy, PyTplot, and Kamodo. The magnetopause is the outer limit of Earth's magnetic field. Models like Shue or OpenGGCM estimate where the magnetopause is. NASA's Magnetospheric Multiscale Mission (MMS) mission orbits four spacecraft around Earth that regularly cross the magnetopause boundary. We detect where these crossings happen using functionalities from our PyHC packages and compare the locations to the models' estimates."
   ]
  },
  {
   "cell_type": "markdown",
   "id": "714f377c",
   "metadata": {
    "cell_id": "00005-f68ecab7-9f53-4519-a036-b834b98718f8",
    "deepnote_cell_type": "text-cell-h2",
    "is_collapsed": false,
    "tags": []
   },
   "source": [
    "## Get MMS data from pySPEDAS:"
   ]
  },
  {
   "cell_type": "markdown",
   "id": "80ba5942",
   "metadata": {
    "cell_id": "00006-bb06eb1d-f202-4900-b02d-72256f9d37d1",
    "deepnote_cell_type": "markdown",
    "tags": []
   },
   "source": [
    "### Imports\n",
    "\n",
    "First, we need to import everything. We import `pyspedas` to load the data and `tplot` from `pytplot` to create plots. Then we impo the relevant `spacepy` packages and set a couple environment variables. Finally, we make sure we have the solar wind data updated in our `.spacepy/` directory."
   ]
  },
  {
   "cell_type": "code",
   "execution_count": null,
   "id": "45c7b338",
   "metadata": {
    "cell_id": "00007-3753f5d7-5d35-4f13-9a81-60a861858d59",
    "deepnote_cell_type": "code",
    "deepnote_to_be_reexecuted": false,
    "execution_millis": 17257,
    "execution_start": 1637871736203,
    "is_output_hidden": true,
    "scrolled": true,
    "source_hash": "5ce025b"
   },
   "outputs": [],
   "source": [
    "# # pySPEDAS imports\n",
    "# !pip install --upgrade https://github.com/MAVENSDC/PyTplot/archive/matplotlib-backend.zip\n",
    "# !pip install pyspedas==1.2.2 \n",
    "import pyspedas\n",
    "from pytplot import tplot\n",
    "import pytplot\n",
    "\n",
    "# Imports of relevant SpacePy packages\n",
    "import spacepy.coordinates\n",
    "import spacepy.empiricals\n",
    "import spacepy.time\n",
    "import spacepy.toolbox\n",
    "import numpy\n",
    "\n",
    "# # Set CDF environment variables since they can't be set during initialization\n",
    "# import os\n",
    "# os.environ[\"CDF_BASE\"] = \"/root/work/dependencies/cdf38_0-dist\"\n",
    "# os.environ[\"CDF_LIB\"] = \"/root/work/dependencies/cdf38_0-dist/lib\"\n",
    "\n",
    "# # Make sure the solar wind data are up-to-date\n",
    "# !cp -R /root/work/dependencies/spacepy/spacepy/data /root/.spacepy/  # Manually copy the data from persistent storage to avoid spacepy.toolbox.update() call"
   ]
  },
  {
   "cell_type": "markdown",
   "id": "50aac91e",
   "metadata": {
    "cell_id": "00008-b3224908-b75c-4c38-af43-2ed144bcdee8",
    "deepnote_cell_type": "markdown"
   },
   "source": [
    "### Set the time range for loading the data.\n",
    "\n",
    "The first time range (on Oct 16, 2015) is the time range from the Science paper:\n",
    "\n",
    "J. L. Burch et al, Electron-scale measurements of magnetic reconnection in space (2016)\n",
    "\n",
    "The next 4 time ranges were chosen from the MMS Scientist in the Loop (SITL) events database where the description mentioned observations of a full magnetopause crossing. There were over 300 such events in the database, and the following were mostly chosen at random, but I tried to only include time ranges where the crossings were fairly obvious in the FGM and plasma data. \n",
    "\n",
    "Most of these events show multiple magnetopause crossings over the time interval."
   ]
  },
  {
   "cell_type": "code",
   "execution_count": null,
   "id": "98cc55c1",
   "metadata": {
    "cell_id": "00009-ed91f9f0-be7c-4dfc-814c-74849b32374b",
    "deepnote_cell_type": "code",
    "deepnote_to_be_reexecuted": false,
    "execution_millis": 6,
    "execution_start": 1637871753465,
    "source_hash": "7f3333e1"
   },
   "outputs": [],
   "source": [
    "tranges = [\n",
    "    ['2015-10-16/13:00', '2015-10-16/13:10'], # time range from J. L. Burch et al, Electron-scale measurements of magnetic reconnection in space (2016)\n",
    "    ['2018-03-06/20:20', '2018-03-06/20:30'],\n",
    "    ['2019-02-08/13:20', '2019-02-08/13:40'],\n",
    "    ['2020-11-24/21:30', '2020-11-24/21:50'],\n",
    "    # ['2017-03-31/23:00', '2017-04-01/23:00'], # Jon's fantastic time range from his first notebook\n",
    "    ['2019-02-09', '2019-02-09/01:00']        # Definitely a crossing in this range\n",
    "]\n",
    "\n",
    "trange = tranges[0]"
   ]
  },
  {
   "cell_type": "markdown",
   "id": "5c3e7a1f",
   "metadata": {
    "cell_id": "00010-f5297169-b280-414d-bcd4-c9a079d3449f",
    "deepnote_cell_type": "markdown",
    "tags": []
   },
   "source": [
    "### Load the MEC, FGM and DIS data\n",
    "\n",
    "#### Why the specific instrument/variable was chosen:\n",
    "- MEC data were chosen to retrieve the spacecraft location at the times of the magnetopause crossings\n",
    "- FGM and DIS data were chosen to show the magnetic field and ion population change across the magnetopause boundary\n",
    "\n",
    "#### Why the data level was chosen:\n",
    "- For all cases, we use the science-quality, level 2 fast survey data for probe 1.\n",
    "\n",
    "#### MMS Ephemeris and Coordinates (MEC) data\n",
    "- Data can be loaded with `pyspedas` by calling `pyspedas.mission.instrument()`, with the options set via keyword arguments, e.g., MEC data can be loaded by calling `pyspedas.mms.mec()`.\n",
    "- These data show the spacecraft location at the times of the magnetopause crossings\n",
    "\n",
    "#### Fluxgate Magnetometer (FGM) data\n",
    "- These data show the magnetic field as the spacecraft crosses the magnetopause\n",
    "\n",
    "#### Now load the ion moments data from the Fast Plasma Investigation (FPI)\n",
    "- These data show how the ion population changes as the spacecraft crosses the magnetopause\n"
   ]
  },
  {
   "cell_type": "code",
   "execution_count": null,
   "id": "7c77d38b",
   "metadata": {
    "cell_id": "00011-6a51180a-cc85-43cc-ba34-4605d8417fe6",
    "deepnote_cell_type": "code",
    "deepnote_to_be_reexecuted": false,
    "execution_millis": 8,
    "execution_start": 1637871753476,
    "source_hash": "d47aca4a",
    "tags": []
   },
   "outputs": [],
   "source": [
    "def load_mms_data(time_range):\n",
    "    \"\"\"Loads MMS MEC, FGM, and FPI data.\"\"\"\n",
    "    mec_vars = pyspedas.mms.mec(trange=time_range, time_clip=True, probe=1, level='l2', data_rate='srvy', varformat='*_r_gsm')  # Cartesian GSM coords\n",
    "    fgm_vars = pyspedas.mms.fgm(trange=time_range, time_clip=True, probe=1, level='l2', data_rate='srvy')\n",
    "    ion_vars = pyspedas.mms.fpi(trange=time_range, datatype=['dis-moms', 'des-moms'], level='l2', data_rate='fast', time_clip=True, center_measurement=True)\n",
    "\n",
    "    return mec_vars, fgm_vars, ion_vars"
   ]
  },
  {
   "cell_type": "markdown",
   "id": "a10a4f54",
   "metadata": {
    "cell_id": "00009-e7193fd7-5d2b-445e-a046-f1cc04308fb5",
    "deepnote_cell_type": "text-cell-h2",
    "is_collapsed": false,
    "tags": []
   },
   "source": [
    "## Use the MMS data with SpacePy:"
   ]
  },
  {
   "cell_type": "markdown",
   "id": "ceefec6f",
   "metadata": {
    "cell_id": "00012-b2716f4f-612e-4660-9708-c7616bf2b320",
    "deepnote_cell_type": "markdown",
    "tags": []
   },
   "source": [
    "SpacePy has a simple way to calculate position in GSE as a function of local time in the equatorial plane, and exposes more flexible uses of the model for more involved needs, which we use here. The Shue model of the magnetopause is used."
   ]
  },
  {
   "cell_type": "code",
   "execution_count": null,
   "id": "db75fd84",
   "metadata": {
    "cell_id": "00013-6d2f4b87-fff2-43dd-8490-ecd33645aec9",
    "deepnote_cell_type": "code",
    "deepnote_to_be_reexecuted": false,
    "execution_millis": 7,
    "execution_start": 1637871753505,
    "source_hash": "3e7fd974",
    "tags": []
   },
   "outputs": [],
   "source": [
    "def spacecraft_magnetopause_calculations(mms_mec_vars):\n",
    "    \"\"\"Returns epoch, \n",
    "               pos,\n",
    "               distance between spacecraft and magnetopause, \n",
    "               magnetopause's distance from Earth, \n",
    "               spacecraft's distance from Earth, \n",
    "               and solar zenith angle.\n",
    "    \"\"\"\n",
    "    data = pytplot.get_data(mms_mec_vars[0])\n",
    "    pos_gsm = data.y\n",
    "    ticks = spacepy.time.Ticktock(data.times, dtype='UNX')\n",
    "    epoch = ticks.UTC\n",
    "    c = spacepy.coordinates.Coords(pos_gsm, 'GSM', 'car', units='km', ticks=ticks)\n",
    "    pos = c.convert('GSE', 'car').data\n",
    "\n",
    "    # Get the Shue coefficients\n",
    "    alpha = []  # Shue flaring angle\n",
    "    standoff = spacepy.empiricals.getMPstandoff(ticks, alpha=alpha)  # Shue subsolar standoff\n",
    "    alpha = numpy.array(alpha)\n",
    "\n",
    "    # Solar zenith angle of s/c position (angle with GSE +x)\n",
    "    sza = numpy.arctan2(pos[:, 0], numpy.sqrt((pos[:, :2] ** 2).sum(axis=1)))\n",
    "    # Radial distance to MP along Earth-SC line (application of Shue coefficients)\n",
    "    mp_dist = standoff * (2. / (1 + numpy.cos(sza))) ** alpha\n",
    "    # Radial distance to SC\n",
    "    sc_dist = numpy.sqrt((pos ** 2).sum(axis=1)) / 6378\n",
    "    # How far is SC outside of MP?\n",
    "    sc_to_mp = sc_dist - mp_dist\n",
    "\n",
    "    return epoch, pos, sc_to_mp, mp_dist, sc_dist, sza"
   ]
  },
  {
   "cell_type": "markdown",
   "id": "c642ddac",
   "metadata": {
    "cell_id": "00014-8a8e8150-0935-4802-aa8d-260eca27601b",
    "deepnote_cell_type": "markdown",
    "tags": []
   },
   "source": [
    "### Plot distance outside magnetopause, spacecraft and magnetopause locations, and solar zenith angle\n",
    "\n",
    "Let's plot each for all five of our time ranges. It will take about 3 minutes."
   ]
  },
  {
   "cell_type": "code",
   "execution_count": null,
   "id": "7e0f7687",
   "metadata": {
    "cell_id": "00015-8667805d-facf-4678-aa71-94283058bf52",
    "deepnote_cell_type": "code",
    "deepnote_output_heights": [
     null,
     21,
     175.046875,
     156.546875,
     175.890625,
     156.921875
    ],
    "deepnote_to_be_reexecuted": false,
    "execution_millis": 243540,
    "execution_start": 1637871753558,
    "is_output_hidden": false,
    "source_hash": "9d980e5a",
    "tags": []
   },
   "outputs": [],
   "source": [
    "import matplotlib.pyplot as plt\n",
    "%matplotlib inline\n",
    "\n",
    "\n",
    "n = len(tranges)\n",
    "fig1, axs1 = plt.subplots(1, n, figsize=(n*5, 2.5), sharey=True)\n",
    "fig2, axs2 = plt.subplots(1, n, figsize=(n*5, 2.5), sharey=True)\n",
    "fig3, axs3 = plt.subplots(1, n, figsize=(n*5, 2.5), sharey=True)\n",
    "fig4, axs4 = plt.subplots(1, n, figsize=(n*5, 2.5), sharey=True)\n",
    "\n",
    "for i, trange in enumerate(tranges):\n",
    "    mec_vars, fgm_vars, ion_vars = load_mms_data(trange)\n",
    "    epoch, pos, sc_to_mp, mp_dist, sc_dist, sza = spacecraft_magnetopause_calculations(mec_vars)\n",
    "\n",
    "    # Spacecraft distance outside magnetopause\n",
    "    fig1.suptitle('Distance Outside Magnetopause')\n",
    "    axs1[i].plot(epoch, sc_to_mp)\n",
    "    axs1[i].set(xlabel='Time', ylabel='Re')\n",
    "    fig1.autofmt_xdate()\n",
    "\n",
    "    # Spacecraft and magnetopause locations\n",
    "    fig2.suptitle('Distance From Earth')\n",
    "    l_mp, = axs2[i].plot(epoch, mp_dist, label='Magnetopause')\n",
    "    l_sc, = axs2[i].plot(epoch, sc_dist, label='Spacecraft')\n",
    "    axs2[i].set(xlabel='Time', ylabel='Re')\n",
    "    fig2.autofmt_xdate()\n",
    "\n",
    "    # Solar zenith angle\n",
    "    # Identifying cause of weird bump in first time range..it's crossing to the nightside\n",
    "    fig3.suptitle('Solar Zenith Angle')\n",
    "    axs3[i].plot(epoch, numpy.degrees(sza))\n",
    "    axs3[i].set(xlabel='Time')\n",
    "    fig3.autofmt_xdate()\n",
    "\n",
    "    # More context of the nightside crossing\n",
    "    fig4.suptitle('Spacecraft Coordinates')\n",
    "    l_x, = axs4[i].plot(epoch, pos[:, 0] / 6378, label='x')\n",
    "    l_y, = axs4[i].plot(epoch, pos[:, 1] / 6378, label='y')\n",
    "    l_z, = axs4[i].plot(epoch, pos[:, 2] / 6378, label='z')\n",
    "    fig4.autofmt_xdate()\n",
    "\n",
    "fig2.legend([l_mp, l_sc], [l_mp.get_label(), l_sc.get_label()], loc='right')\n",
    "fig4.legend([l_x, l_y, l_z], [l_x.get_label(), l_y.get_label(), l_z.get_label()], loc='right')\n"
   ]
  },
  {
   "cell_type": "markdown",
   "id": "689d8c94",
   "metadata": {
    "cell_id": "00016-ad8367c4-084b-4435-80ec-00a09a8b5d13",
    "deepnote_cell_type": "markdown",
    "tags": []
   },
   "source": [
    "#### Plot MMS data to visualize"
   ]
  },
  {
   "cell_type": "code",
   "execution_count": null,
   "id": "39f49f63",
   "metadata": {
    "cell_id": "00017-a5dcfa76-ad6d-4fe1-90b1-f13b67ec9883",
    "deepnote_cell_type": "code",
    "deepnote_output_heights": [
     593
    ],
    "deepnote_to_be_reexecuted": false,
    "execution_millis": 3782,
    "execution_start": 1637871997221,
    "source_hash": "a97e84",
    "tags": []
   },
   "outputs": [],
   "source": [
    "tplot(['mms1_dis_energyspectr_omni_fast', 'mms1_dis_numberdensity_fast', 'mms1_fgm_b_gsm_srvy_l2_bvec', 'mms1_mec_r_gsm'])  # Plot a multi-instrument figure"
   ]
  },
  {
   "cell_type": "markdown",
   "id": "06d00b52",
   "metadata": {
    "cell_id": "00018-e120b696-be5c-4a3e-a6e5-541ef471d42e",
    "deepnote_cell_type": "text-cell-h2",
    "is_collapsed": false,
    "tags": []
   },
   "source": [
    "## Prepare data for PlasmaPy:"
   ]
  },
  {
   "cell_type": "markdown",
   "id": "04bd9435",
   "metadata": {
    "cell_id": "00019-551149c4-3787-47c5-8770-bc25a24a2cdb",
    "deepnote_cell_type": "markdown",
    "tags": []
   },
   "source": [
    "Here we show how to calculate various plasma parameters (Alfvén speed, plasma beta, Debye length, etc.) from our MMS data and the PlasmaPy package."
   ]
  },
  {
   "cell_type": "markdown",
   "id": "f2cd85c5",
   "metadata": {
    "cell_id": "00020-e888f7cf-4ccf-4993-8f76-05d7d3c397d9",
    "deepnote_cell_type": "markdown",
    "tags": []
   },
   "source": [
    "#### Interpolate to a common set of times\n",
    "Now we need to interpolate the B-field and DES (electron) data to the DIS (ion) time stamps.\n",
    "\n",
    "Note: `tinterpol` creates a new variable containing the interpolated output with the suffix '-itrp'."
   ]
  },
  {
   "cell_type": "code",
   "execution_count": null,
   "id": "dc2ca8ae",
   "metadata": {
    "cell_id": "00021-666c0f2a-1cc8-4b54-b922-be7364918693",
    "deepnote_cell_type": "code",
    "deepnote_to_be_reexecuted": false,
    "execution_millis": 48,
    "execution_start": 1637872001008,
    "source_hash": "3a84470c",
    "tags": []
   },
   "outputs": [],
   "source": [
    "from pyspedas import tinterpol\n",
    "tinterpol('mms1_fgm_b_gse_srvy_l2_btot', 'mms1_dis_numberdensity_fast')\n",
    "tinterpol('mms1_des_numberdensity_fast', 'mms1_dis_numberdensity_fast')\n",
    "tinterpol('mms1_des_temppara_fast', 'mms1_dis_numberdensity_fast')\n",
    "tinterpol('mms1_des_tempperp_fast', 'mms1_dis_numberdensity_fast')"
   ]
  },
  {
   "cell_type": "markdown",
   "id": "ad457180",
   "metadata": {
    "cell_id": "00022-a1fe124c-f5e5-4907-beae-4ee7a54b1de1",
    "deepnote_cell_type": "markdown",
    "tags": []
   },
   "source": [
    "#### Extract the data values"
   ]
  },
  {
   "cell_type": "code",
   "execution_count": null,
   "id": "d0363f89",
   "metadata": {
    "cell_id": "00023-aebf72ec-cef5-4afe-8751-76cf76066cbe",
    "deepnote_cell_type": "code",
    "deepnote_to_be_reexecuted": false,
    "execution_millis": 8,
    "execution_start": 1637872001059,
    "is_output_hidden": true,
    "source_hash": "6c7e6cb4",
    "tags": []
   },
   "outputs": [],
   "source": [
    "from pytplot import get_data\n",
    "fgm_b = get_data('mms1_fgm_b_gse_srvy_l2_btot-itrp')\n",
    "dis_n = get_data('mms1_dis_numberdensity_fast')\n",
    "dis_Tpara = get_data('mms1_dis_temppara_fast')\n",
    "dis_Tperp = get_data('mms1_dis_tempperp_fast')\n",
    "des_n = get_data('mms1_des_numberdensity_fast-itrp')\n",
    "des_Tpara = get_data('mms1_des_temppara_fast-itrp')\n",
    "des_Tperp = get_data('mms1_des_tempperp_fast-itrp')"
   ]
  },
  {
   "cell_type": "markdown",
   "id": "fa11e1bd",
   "metadata": {
    "cell_id": "00024-dab6c27a-cca9-4441-8ada-170f39c7e68e",
    "deepnote_cell_type": "markdown",
    "tags": []
   },
   "source": [
    "#### Calculate T from Tpara and Tperp\n",
    "\n",
    "Temperature data released by the FPI team come as parallel and perpendicular components; to calculate plasma parameters, we'll need the total temperature.\n",
    "\n",
    "For details on this calculation, please see the FPI Data Product Guide:\n",
    "https://lasp.colorado.edu/galaxy/pages/viewpage.action?pageId=37618954"
   ]
  },
  {
   "cell_type": "code",
   "execution_count": null,
   "id": "aac9c994",
   "metadata": {
    "cell_id": "00025-2bbae185-585a-426a-a980-6171fc2d8584",
    "deepnote_cell_type": "code",
    "deepnote_to_be_reexecuted": false,
    "execution_millis": 3,
    "execution_start": 1637872001077,
    "source_hash": "3b95169",
    "tags": []
   },
   "outputs": [],
   "source": [
    "dis_T = (dis_Tpara.y + 2*dis_Tperp.y)/3.0\n",
    "des_T = (des_Tpara.y + 2*des_Tperp.y)/3.0"
   ]
  },
  {
   "cell_type": "markdown",
   "id": "e775c827",
   "metadata": {
    "cell_id": "00026-c324009a-6ddc-49cf-99dd-53055e2482bc",
    "deepnote_cell_type": "markdown",
    "tags": []
   },
   "source": [
    "#### Add units to the data\n",
    "\n",
    "PlasmaPy requires us to specify the units of the data using `astropy` units"
   ]
  },
  {
   "cell_type": "code",
   "execution_count": null,
   "id": "542ceab3",
   "metadata": {
    "cell_id": "00027-d9786747-e50b-4f57-8ff0-12dffc603083",
    "deepnote_cell_type": "code",
    "deepnote_to_be_reexecuted": false,
    "execution_millis": 8,
    "execution_start": 1637872001085,
    "source_hash": "79081f08",
    "tags": []
   },
   "outputs": [],
   "source": [
    "from astropy import units as u\n",
    "B = fgm_b.y * u.nT\n",
    "n_i = dis_n.y * u.cm**-3\n",
    "n_e = des_n.y * u.cm**-3\n",
    "T_i = dis_T * u.eV\n",
    "T_e = des_T * u.eV"
   ]
  },
  {
   "cell_type": "markdown",
   "id": "2d5b89eb",
   "metadata": {
    "cell_id": "00028-b87dd767-5432-4a04-a48a-48ba9ab17a5e",
    "deepnote_cell_type": "markdown",
    "tags": []
   },
   "source": [
    "Now that we have some data loaded, we'll calculate some plasma parameters."
   ]
  },
  {
   "cell_type": "markdown",
   "id": "02e61109",
   "metadata": {
    "cell_id": "00029-94de09d9-9e7d-4cd0-b238-be9e84fc719a",
    "deepnote_cell_type": "text-cell-h2",
    "is_collapsed": false,
    "tags": []
   },
   "source": [
    "## Calculate plasma parameters:"
   ]
  },
  {
   "cell_type": "code",
   "execution_count": null,
   "id": "53863862",
   "metadata": {
    "cell_id": "00030-e2225575-5c59-4f7b-bab1-077af564fb8b",
    "deepnote_cell_type": "code",
    "deepnote_to_be_reexecuted": false,
    "execution_millis": 544,
    "execution_start": 1637872001115,
    "source_hash": "7a61aa05",
    "tags": []
   },
   "outputs": [],
   "source": [
    "import plasmapy"
   ]
  },
  {
   "cell_type": "markdown",
   "id": "1524da0c",
   "metadata": {
    "cell_id": "00031-bae9ae73-1112-47ad-ab4a-dd6f52456511",
    "deepnote_cell_type": "markdown",
    "tags": []
   },
   "source": [
    "#### Alfvén speed"
   ]
  },
  {
   "cell_type": "code",
   "execution_count": null,
   "id": "8b1c51c6",
   "metadata": {
    "cell_id": "00032-348c203e-41f1-481f-9f05-d873cceec28b",
    "deepnote_cell_type": "code",
    "deepnote_to_be_reexecuted": false,
    "execution_millis": 22,
    "execution_start": 1637872001666,
    "is_output_hidden": true,
    "source_hash": "28d65b3b",
    "tags": []
   },
   "outputs": [],
   "source": [
    "Va = plasmapy.formulary.parameters.Alfven_speed(B, n_i, 'p')\n",
    "\n",
    "# convert to km / s\n",
    "Va = Va.to(u.km / u.s)"
   ]
  },
  {
   "cell_type": "markdown",
   "id": "20a4857b",
   "metadata": {
    "cell_id": "00033-6a50325f-dbdf-43cf-ba4f-368e11b91b40",
    "deepnote_cell_type": "markdown",
    "tags": []
   },
   "source": [
    "#### Plasma beta"
   ]
  },
  {
   "cell_type": "code",
   "execution_count": null,
   "id": "7d4a4c41",
   "metadata": {
    "cell_id": "00034-ecaaa155-539e-46cb-ad3c-c0596c504293",
    "deepnote_cell_type": "code",
    "deepnote_to_be_reexecuted": false,
    "execution_millis": 8,
    "execution_start": 1637872001695,
    "source_hash": "8543f16f",
    "tags": []
   },
   "outputs": [],
   "source": [
    "# ions\n",
    "beta_i = plasmapy.formulary.dimensionless.beta(T_i, n_i, B)\n",
    "\n",
    "# electrons\n",
    "beta_e = plasmapy.formulary.dimensionless.beta(T_e, n_e, B)\n",
    "\n",
    "# combined\n",
    "beta = beta_i + beta_e"
   ]
  },
  {
   "cell_type": "markdown",
   "id": "64a9c9c7",
   "metadata": {
    "cell_id": "00035-f26ef9fa-a20b-4c69-900c-3f4f212aa00b",
    "deepnote_cell_type": "markdown",
    "tags": []
   },
   "source": [
    "#### Ion inertial length"
   ]
  },
  {
   "cell_type": "code",
   "execution_count": null,
   "id": "cd21b144",
   "metadata": {
    "cell_id": "00036-b502e0c0-241f-4b6b-a249-810ada44b3e7",
    "deepnote_cell_type": "code",
    "deepnote_to_be_reexecuted": false,
    "execution_millis": 31,
    "execution_start": 1637872001708,
    "is_output_hidden": true,
    "source_hash": "632ff7e5",
    "tags": []
   },
   "outputs": [],
   "source": [
    "d_i = plasmapy.formulary.parameters.inertial_length(n_i, 'p+')"
   ]
  },
  {
   "cell_type": "markdown",
   "id": "ce5aab41",
   "metadata": {
    "cell_id": "00037-0baf9af7-73af-4a0e-aa27-e5cb28cff6c4",
    "deepnote_cell_type": "markdown",
    "tags": []
   },
   "source": [
    "#### Debye length"
   ]
  },
  {
   "cell_type": "code",
   "execution_count": null,
   "id": "ff70c7d2",
   "metadata": {
    "cell_id": "00038-c90a032f-a927-46a7-bc7d-c4dcecab0daf",
    "deepnote_cell_type": "code",
    "deepnote_to_be_reexecuted": false,
    "execution_millis": 12,
    "execution_start": 1637872001738,
    "source_hash": "5db26f9",
    "tags": []
   },
   "outputs": [],
   "source": [
    "lamda_d = plasmapy.formulary.parameters.Debye_length(T_e, n_e)"
   ]
  },
  {
   "cell_type": "markdown",
   "id": "9c4f54e6",
   "metadata": {
    "cell_id": "00039-3cba7db2-7e96-40f7-bb8a-f1cbd781bcc0",
    "deepnote_cell_type": "markdown",
    "tags": []
   },
   "source": [
    "#### Ion gyrofrequency\n"
   ]
  },
  {
   "cell_type": "code",
   "execution_count": null,
   "id": "566b5164",
   "metadata": {
    "cell_id": "00040-cc77a3c1-de23-45a0-a3d2-90c07e83b6ba",
    "deepnote_cell_type": "code",
    "deepnote_to_be_reexecuted": false,
    "execution_millis": 604377,
    "execution_start": 1637872001757,
    "source_hash": "1bf0df7d",
    "tags": []
   },
   "outputs": [],
   "source": [
    "omega_ci = plasmapy.formulary.parameters.gyrofrequency(B, 'p', to_hz=True)"
   ]
  },
  {
   "cell_type": "markdown",
   "id": "de367d42",
   "metadata": {
    "cell_id": "00041-c698713a-1b8b-4371-b087-5a4253d214bb",
    "deepnote_cell_type": "markdown",
    "tags": []
   },
   "source": [
    "#### Ion gyroradius"
   ]
  },
  {
   "cell_type": "code",
   "execution_count": null,
   "id": "42d74969",
   "metadata": {
    "cell_id": "00042-50527b76-9606-4759-98e1-09bb5c052f65",
    "deepnote_cell_type": "code",
    "deepnote_to_be_reexecuted": false,
    "execution_millis": 604376,
    "execution_start": 1637872001767,
    "source_hash": "415eef44",
    "tags": []
   },
   "outputs": [],
   "source": [
    "# r_i = plasmapy.formulary.parameters.gyroradius(B, 'p', T_i=T_i)\n",
    "\n",
    "# convert to km\n",
    "# r_i = r_i.to(u.km)"
   ]
  },
  {
   "cell_type": "markdown",
   "id": "dc768dd5",
   "metadata": {
    "cell_id": "00043-dd44c6c4-0e48-4aa2-896a-c03fbaad3991",
    "deepnote_cell_type": "markdown",
    "tags": []
   },
   "source": [
    "#### Bohm diffusion coefficient"
   ]
  },
  {
   "cell_type": "code",
   "execution_count": null,
   "id": "5fca3feb",
   "metadata": {
    "cell_id": "00044-226233af-d1ef-4ff8-9bb5-d7879d78be0e",
    "deepnote_cell_type": "code",
    "deepnote_to_be_reexecuted": false,
    "execution_millis": 1,
    "execution_start": 1637872001777,
    "source_hash": "2928d0cc",
    "tags": []
   },
   "outputs": [],
   "source": [
    "DB = plasmapy.formulary.parameters.Bohm_diffusion(T_e, B)"
   ]
  },
  {
   "cell_type": "markdown",
   "id": "951987d8",
   "metadata": {
    "cell_id": "00045-f0f6ea26-a064-436a-83d3-3bc51022766a",
    "deepnote_cell_type": "markdown",
    "tags": []
   },
   "source": [
    "#### Lower hybrid frequency"
   ]
  },
  {
   "cell_type": "code",
   "execution_count": null,
   "id": "71ea2c32",
   "metadata": {
    "cell_id": "00046-2289203e-e009-439c-8150-dbcdcd4797e6",
    "deepnote_cell_type": "code",
    "deepnote_to_be_reexecuted": false,
    "execution_millis": 28,
    "execution_start": 1637872001788,
    "source_hash": "2c1372fd",
    "tags": []
   },
   "outputs": [],
   "source": [
    "omega_lh = plasmapy.formulary.parameters.lower_hybrid_frequency(B, n_i, 'p', to_hz=True)"
   ]
  },
  {
   "cell_type": "markdown",
   "id": "c2824169",
   "metadata": {
    "cell_id": "00047-45dc08ee-6483-4c9f-9ebf-1179646fc4f2",
    "deepnote_cell_type": "markdown",
    "tags": []
   },
   "source": [
    "#### Upper hybrid frequency"
   ]
  },
  {
   "cell_type": "code",
   "execution_count": null,
   "id": "ddb52078",
   "metadata": {
    "cell_id": "00048-7e4931bf-4d7d-4a6d-825e-a289a8ab01ab",
    "deepnote_cell_type": "code",
    "deepnote_to_be_reexecuted": false,
    "execution_millis": 18,
    "execution_start": 1637872001831,
    "source_hash": "b69d1d82",
    "tags": []
   },
   "outputs": [],
   "source": [
    "omega_uh = plasmapy.formulary.parameters.upper_hybrid_frequency(B, n_e, to_hz=True)"
   ]
  },
  {
   "cell_type": "markdown",
   "id": "19694f36",
   "metadata": {
    "cell_id": "00049-f05b5701-b596-4a76-bf50-749acfce2f44",
    "deepnote_cell_type": "markdown",
    "tags": []
   },
   "source": [
    "## Plotting\n",
    "Now that we calculated the plasma parameters, let's move on to plotting."
   ]
  },
  {
   "cell_type": "markdown",
   "id": "bf2dbb4a",
   "metadata": {
    "cell_id": "00050-ee9bcba2-0753-4d43-9e31-45d7eb0025b4",
    "deepnote_cell_type": "markdown",
    "tags": []
   },
   "source": [
    "#### Save the data in tplot variables"
   ]
  },
  {
   "cell_type": "code",
   "execution_count": null,
   "id": "6f4d1cb1",
   "metadata": {
    "cell_id": "00051-719a9596-1db7-4fad-8648-b64f4c74970f",
    "deepnote_cell_type": "code",
    "deepnote_output_heights": [
     21
    ],
    "deepnote_to_be_reexecuted": false,
    "execution_millis": 63,
    "execution_start": 1637872001866,
    "is_output_hidden": true,
    "source_hash": "290b4108",
    "tags": []
   },
   "outputs": [],
   "source": [
    "from pytplot import store_data\n",
    "store_data('alfven_speed', data={'x': fgm_b.times, 'y': Va})\n",
    "store_data('plasma_beta', data={'x': fgm_b.times, 'y': beta})\n",
    "store_data('ion_inertial_length', data={'x': fgm_b.times, 'y': d_i})\n",
    "store_data('debye_length', data={'x': fgm_b.times, 'y': lamda_d})\n",
    "store_data('omega_ci', data={'x': fgm_b.times, 'y': omega_ci})\n",
    "# store_data('ion_gyroradius', data={'x': fgm_b.times, 'y': r_i})\n",
    "store_data('bohm_diffusion_coeff', data={'x': fgm_b.times, 'y': DB})\n",
    "store_data('omega_lh', data={'x': fgm_b.times, 'y': omega_lh})\n",
    "store_data('omega_uh', data={'x': fgm_b.times, 'y': omega_uh})"
   ]
  },
  {
   "cell_type": "markdown",
   "id": "87b6a96d",
   "metadata": {
    "cell_id": "00052-0e5866b7-0f3e-4da6-a272-2e7ca511c3c1",
    "deepnote_cell_type": "markdown",
    "tags": []
   },
   "source": [
    "#### Set some plot metadata"
   ]
  },
  {
   "cell_type": "code",
   "execution_count": null,
   "id": "cd4374f4",
   "metadata": {
    "cell_id": "00053-584c5e0c-5e3f-4bbe-8b66-f74f28d92380",
    "deepnote_cell_type": "code",
    "deepnote_to_be_reexecuted": false,
    "execution_millis": 17,
    "execution_start": 1637872001922,
    "is_output_hidden": true,
    "source_hash": "1bdb6406",
    "tags": []
   },
   "outputs": [],
   "source": [
    "from pytplot import options\n",
    "options('alfven_speed', 'ytitle', 'Va \\\\ (' + str(Va.unit) + ')')\n",
    "options('alfven_speed', 'legend_names', 'Alfvén speed')\n",
    "options('plasma_beta', 'ytitle', 'Beta')\n",
    "options('plasma_beta', 'legend_names', 'Plasma Beta')\n",
    "options('ion_inertial_length', 'ytitle', 'd_i \\\\ (' + str(d_i.unit) + ')')\n",
    "options('ion_inertial_length', 'legend_names', 'Ion inertial length')\n",
    "options('debye_length', 'ytitle', 'Lamda_d \\\\ (' + str(lamda_d.unit) + ')')\n",
    "options('debye_length', 'legend_names', 'Debye length')\n",
    "options('omega_ci', 'ytitle', 'omega_ci \\\\ (' + str(omega_ci.unit) + ')')\n",
    "options('omega_ci', 'legend_names', 'Ion gyrofrequency')\n",
    "# options('ion_gyroradius', 'ytitle', 'r_i \\\\ (' + str(r_i.unit) + ')')\n",
    "# options('ion_gyroradius', 'legend_names', 'Ion gyroradius')\n",
    "options('bohm_diffusion_coeff', 'ytitle', 'DB \\\\ (' + str(DB.unit) + ')')\n",
    "options('bohm_diffusion_coeff', 'legend_names', 'Bohm diffusion coefficient')\n",
    "options('omega_uh', 'ytitle', 'omega_uh \\\\ (' + str(omega_uh.unit) + ')')\n",
    "options('omega_uh', 'legend_names', 'Upper hybrid frequency')\n",
    "options('omega_lh', 'ytitle', 'omega_lh \\\\ (' + str(omega_lh.unit) + ')')\n",
    "options('omega_lh', 'legend_names', 'Lower hybrid frequency')"
   ]
  },
  {
   "cell_type": "markdown",
   "id": "a3518fa0",
   "metadata": {
    "cell_id": "00054-1440f5e0-cb62-40d5-bccb-e40ffa4334de",
    "deepnote_cell_type": "text-cell-h2",
    "is_collapsed": false,
    "tags": []
   },
   "source": [
    "## Plot the plasma parameters and compare:"
   ]
  },
  {
   "cell_type": "code",
   "execution_count": null,
   "id": "4652bb01",
   "metadata": {
    "cell_id": "00055-e8c98daf-91f9-4b15-9271-30d62f3b7392",
    "deepnote_cell_type": "code",
    "deepnote_output_heights": [
     null,
     595
    ],
    "deepnote_to_be_reexecuted": false,
    "execution_millis": 1620,
    "execution_start": 1637872001962,
    "source_hash": "e0484902",
    "tags": []
   },
   "outputs": [],
   "source": [
    "tplot(['alfven_speed', \n",
    "       'plasma_beta',\n",
    "       'ion_inertial_length',\n",
    "       'debye_length',\n",
    "       'omega_ci',\n",
    "       # 'ion_gyroradius',\n",
    "       'bohm_diffusion_coeff',\n",
    "       'omega_uh',\n",
    "       'omega_lh'])"
   ]
  },
  {
   "cell_type": "markdown",
   "id": "b3a83a7f",
   "metadata": {
    "cell_id": "00053-a551bd55-f17c-4827-8386-683df0d258da",
    "deepnote_cell_type": "markdown",
    "tags": []
   },
   "source": [
    "Let's compare that to our MMS data and model data one more time:"
   ]
  },
  {
   "cell_type": "code",
   "execution_count": null,
   "id": "43c62900",
   "metadata": {
    "cell_id": "00054-a923446b-23f5-4af4-a760-5bbefe005ffd",
    "deepnote_cell_type": "code",
    "deepnote_output_heights": [
     593,
     21,
     284
    ],
    "deepnote_to_be_reexecuted": false,
    "execution_millis": 6128,
    "execution_start": 1637872388826,
    "source_hash": "d3f49af8",
    "tags": []
   },
   "outputs": [],
   "source": [
    "# MMS data\n",
    "tplot(['mms1_dis_energyspectr_omni_fast', 'mms1_dis_numberdensity_fast', 'mms1_fgm_b_gsm_srvy_l2_bvec', 'mms1_mec_r_gsm'])\n",
    "\n",
    "# MMS and magnetopause locations\n",
    "fig2, axs2 = plt.subplots(1, 1, figsize=(8, 4), sharey=True)\n",
    "fig2.suptitle('Distance From Earth')\n",
    "l_mp, = axs2.plot(epoch, mp_dist, label='Magnetopause')\n",
    "l_sc, = axs2.plot(epoch, sc_dist, label='Spacecraft')\n",
    "axs2.set(xlabel='Time', ylabel='Re')\n",
    "fig2.autofmt_xdate()\n",
    "fig2.legend([l_mp, l_sc], [l_mp.get_label(), l_sc.get_label()], loc='right')"
   ]
  },
  {
   "cell_type": "markdown",
   "id": "cbb1ae10",
   "metadata": {
    "cell_id": "00055-91eb8e45-465d-4abd-97ca-f75d1a89a5c1",
    "deepnote_cell_type": "markdown",
    "tags": []
   },
   "source": [
    "Note how you can visually inspect the real-world plots to see they all show dramatic changes between 00:30 – 00:40. This disagrees with the model that predicts the crossing would've happened just after 00:40, **so we can conclude the magnetopause was closer to Earth than the model predicted.**"
   ]
  },
  {
   "cell_type": "markdown",
   "id": "2dbaf3a4",
   "metadata": {
    "cell_id": "00061-340d7ce5-b6ba-4fff-943a-9269cc53212a",
    "deepnote_cell_type": "text-cell-h2",
    "is_collapsed": false,
    "tags": []
   },
   "source": [
    "## Conclusion"
   ]
  },
  {
   "cell_type": "markdown",
   "id": "1398143d",
   "metadata": {
    "cell_id": "00062-31cca76a-5473-404d-be66-5db8220ebb6f",
    "deepnote_cell_type": "markdown",
    "tags": []
   },
   "source": [
    "We can use the five PyHC software packages pySPEDAS, SpacePy, PlasmaPy, PyTplot, and Kamodo to detect magnetopause boundary crossings in MMS data. Then we can compare where these crossings happen to the locations estimated by models of the magnetopause to test their accuracy. We've shown at least one example where the magnetopause was closer to the Earth than predicted by the Shue model. This is not entirely surprising becuase models are just that—only models. But the novel workflow we developed here showcases how PyHC's packages can simplify this kind of analysis. We hope our field takes this as an example of how scientists and software developers can work together to produce high-quality research that is both transparent and reproducible."
   ]
  },
  {
   "cell_type": "markdown",
   "id": "094f536b",
   "metadata": {
    "created_in_deepnote_cell": true,
    "deepnote_cell_type": "markdown",
    "tags": []
   },
   "source": [
    "<a style='text-decoration:none;line-height:16px;display:flex;color:#5B5B62;padding:10px;justify-content:end;' href='https://deepnote.com?utm_source=created-in-deepnote-cell&projectId=101b9646-3fd0-4978-a48e-a4f3e708a0ac' target=\"_blank\">\n",
    "<img alt='Created in deepnote.com' style='display:inline;max-height:16px;margin:0px;margin-right:7.5px;' src='data:image/svg+xml;base64,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' > </img>\n",
    "Created in <span style='font-weight:600;margin-left:4px;'>Deepnote</span></a>"
   ]
  }
 ],
 "metadata": {
  "deepnote": {},
  "deepnote_execution_queue": [],
  "deepnote_notebook_id": "2a67c3e3-14b4-41b1-9114-6f3b60064526",
  "kernelspec": {
   "display_name": "Python 3 (ipykernel)",
   "language": "python",
   "name": "python3"
  },
  "language_info": {
   "codemirror_mode": {
    "name": "ipython",
    "version": 3
   },
   "file_extension": ".py",
   "mimetype": "text/x-python",
   "name": "python",
   "nbconvert_exporter": "python",
   "pygments_lexer": "ipython3",
   "version": "3.10.2"
  }
 },
 "nbformat": 4,
 "nbformat_minor": 5
}
