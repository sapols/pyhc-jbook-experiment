{
 "cells": [
  {
   "cell_type": "markdown",
   "id": "b9c29f71-bfde-46f3-99fd-020cd28a1b54",
   "metadata": {
    "tags": []
   },
   "source": [
    "# Astropy Coordinates and SunPy Demo"
   ]
  },
  {
   "cell_type": "markdown",
   "id": "257e1505",
   "metadata": {
    "cell_marker": "\"\"\""
   },
   "source": [
    "Written by Steven Christe and presented at the Heliopython meeting on\n",
    "November 13-15, 2018. The purpose of this demo is to show off the AstroPy coordinates\n",
    "framework as well as show how SunPy extends it to add solar coordinate systems. "
   ]
  },
  {
   "cell_type": "markdown",
   "id": "d3da357e",
   "metadata": {
    "cell_marker": "##############################################################################",
    "lines_to_next_cell": 0
   },
   "source": [
    "The astropy coordinates package provides classes for representing a variety\n",
    "of celestial/spatial coordinates and their velocity components, as well as\n",
    "tools for converting between common coordinate systems in a uniform way."
   ]
  },
  {
   "cell_type": "code",
   "execution_count": null,
   "id": "96737e6b",
   "metadata": {},
   "outputs": [],
   "source": [
    "from astropy import units as u\n",
    "from astropy.coordinates import SkyCoord, AltAz\n",
    "from astropy.time import Time"
   ]
  },
  {
   "cell_type": "markdown",
   "id": "8cdba9fe",
   "metadata": {
    "cell_marker": "##############################################################################",
    "lines_to_next_cell": 0
   },
   "source": [
    "SkyCoord\n",
    "As an example of creating a SkyCoord to represent an ICRS (Right ascension\n",
    "[RA], Declination [Dec]) sky position:"
   ]
  },
  {
   "cell_type": "code",
   "execution_count": null,
   "id": "c1496412",
   "metadata": {
    "lines_to_next_cell": 0
   },
   "outputs": [],
   "source": [
    "c = SkyCoord(ra=10.625*u.degree, dec=41.2*u.degree, frame='icrs')"
   ]
  },
  {
   "cell_type": "markdown",
   "id": "3c4dfef8",
   "metadata": {
    "cell_marker": "##############################################################################",
    "lines_to_next_cell": 0
   },
   "source": [
    "It can also handle arrays (many ways to instantiate a SkyCoord)"
   ]
  },
  {
   "cell_type": "code",
   "execution_count": null,
   "id": "238ee849",
   "metadata": {},
   "outputs": [],
   "source": [
    "c = SkyCoord(ra=[10, 11, 12, 13]*u.degree, dec=[41, -5, 42, 0]*u.degree)"
   ]
  },
  {
   "cell_type": "markdown",
   "id": "3504c77a",
   "metadata": {
    "cell_marker": "##############################################################################",
    "lines_to_next_cell": 0
   },
   "source": [
    "SkyCoord can also handle 3D positions, just add a distance"
   ]
  },
  {
   "cell_type": "code",
   "execution_count": null,
   "id": "490c6949",
   "metadata": {},
   "outputs": [],
   "source": [
    "c = SkyCoord(ra=10.68458*u.degree, dec=41.26917*u.degree, distance=770*u.kpc)"
   ]
  },
  {
   "cell_type": "markdown",
   "id": "00345961",
   "metadata": {
    "cell_marker": "##############################################################################",
    "lines_to_next_cell": 0
   },
   "source": [
    "So now cartesian coordinates are available"
   ]
  },
  {
   "cell_type": "code",
   "execution_count": null,
   "id": "09453d68",
   "metadata": {},
   "outputs": [],
   "source": [
    "print('r = ({0}, {1}, {2})'.format(c.cartesian.x, c.cartesian.y, c.cartesian.z))"
   ]
  },
  {
   "cell_type": "markdown",
   "id": "bd662c99",
   "metadata": {
    "cell_marker": "##############################################################################",
    "lines_to_next_cell": 0
   },
   "source": [
    "Positions of objects\n",
    "Can also register positions of objects or do object lookups"
   ]
  },
  {
   "cell_type": "code",
   "execution_count": null,
   "id": "3936610a",
   "metadata": {},
   "outputs": [],
   "source": [
    "crab = SkyCoord.from_name(\"Crab\")\n",
    "print(crab)"
   ]
  },
  {
   "cell_type": "markdown",
   "id": "4d928626",
   "metadata": {
    "cell_marker": "##############################################################################",
    "lines_to_next_cell": 0
   },
   "source": [
    "let's consider now consider a position in the sky from a specific location\n",
    "on the Earth."
   ]
  },
  {
   "cell_type": "code",
   "execution_count": null,
   "id": "cda38fe4",
   "metadata": {},
   "outputs": [],
   "source": [
    "from astropy.coordinates import EarthLocation"
   ]
  },
  {
   "cell_type": "markdown",
   "id": "e80a0b3f",
   "metadata": {
    "cell_marker": "##############################################################################",
    "lines_to_next_cell": 0
   },
   "source": [
    "Many positions are already availabe such as that of the VLA."
   ]
  },
  {
   "cell_type": "code",
   "execution_count": null,
   "id": "9720f38f",
   "metadata": {},
   "outputs": [],
   "source": [
    "vla_coord = EarthLocation.of_site('vla')\n",
    "print(vla_coord)"
   ]
  },
  {
   "cell_type": "markdown",
   "id": "7a2d6292",
   "metadata": {
    "cell_marker": "##############################################################################",
    "lines_to_next_cell": 0
   },
   "source": [
    "Using a position on the Earth we can calculate Alt/Az, since dkist is missing\n",
    "from the library, let's add it as a position"
   ]
  },
  {
   "cell_type": "code",
   "execution_count": null,
   "id": "8f9475ff",
   "metadata": {},
   "outputs": [],
   "source": [
    "dkist = EarthLocation(lat=20.70818*u.deg, lon=-156.2569*u.deg, height=3084*u.m)\n",
    "utcoffset = -10 * u.hour\n",
    "midnight = Time('2018-11-14 00:00:00') - utcoffset"
   ]
  },
  {
   "cell_type": "markdown",
   "id": "59e12914",
   "metadata": {
    "cell_marker": "##############################################################################",
    "lines_to_next_cell": 0
   },
   "source": [
    "We can now get the position of the Crab in the sky as observed from DKIST"
   ]
  },
  {
   "cell_type": "code",
   "execution_count": null,
   "id": "eb6ca50d",
   "metadata": {},
   "outputs": [],
   "source": [
    "crab_altaz = crab.transform_to(AltAz(obstime=midnight,location=dkist))\n",
    "print(crab_altaz)\n",
    "print(\"Crab's Altitude = {0.alt:}\".format(crab_altaz))"
   ]
  },
  {
   "cell_type": "markdown",
   "id": "bbed73dc",
   "metadata": {
    "cell_marker": "##############################################################################",
    "lines_to_next_cell": 0
   },
   "source": [
    "Let's now move on to showing how SunPy extends AstroPy coordinates by\n",
    "adding solar coordinate systems."
   ]
  },
  {
   "cell_type": "code",
   "execution_count": null,
   "id": "bd105560",
   "metadata": {},
   "outputs": [],
   "source": [
    "from sunpy.coordinates import frames, get_sunearth_distance"
   ]
  },
  {
   "cell_type": "markdown",
   "id": "4203781a",
   "metadata": {
    "cell_marker": "##############################################################################",
    "lines_to_next_cell": 0
   },
   "source": [
    "SunPy defines HeliographicStonyhurst, HeliographicCarrington, Heliocentric,\n",
    "and Helioprojective. Let's define the center of the Sun"
   ]
  },
  {
   "cell_type": "code",
   "execution_count": null,
   "id": "113703f2",
   "metadata": {},
   "outputs": [],
   "source": [
    "sun = SkyCoord(0 * u.arcsec, 0 * u.arcsec, obstime=midnight, frame=frames.Helioprojective)"
   ]
  },
  {
   "cell_type": "markdown",
   "id": "3a003de7",
   "metadata": {
    "cell_marker": "##############################################################################",
    "lines_to_next_cell": 0
   },
   "source": [
    "The position in the sky from the DKIST site is"
   ]
  },
  {
   "cell_type": "code",
   "execution_count": null,
   "id": "6e3080eb",
   "metadata": {},
   "outputs": [],
   "source": [
    "sun_altaz = sun.transform_to(AltAz(obstime=midnight,location=dkist))\n",
    "print('Altitude is {0} and Azimuth is {1}'.format(sun_altaz.T.alt, sun_altaz.T.az))"
   ]
  },
  {
   "cell_type": "markdown",
   "id": "b3a40012",
   "metadata": {
    "cell_marker": "##############################################################################",
    "lines_to_next_cell": 0
   },
   "source": [
    "As expected the Sun is below the horizon! Let's consider noon now."
   ]
  },
  {
   "cell_type": "code",
   "execution_count": null,
   "id": "59cccbf2",
   "metadata": {},
   "outputs": [],
   "source": [
    "noon = Time('2018-11-14 12:00:00') - utcoffset\n",
    "sun_altaz = sun.transform_to(AltAz(obstime=noon,location=dkist))\n",
    "print('Altitude is {0} and Azimuth is {1}'.format(sun_altaz.T.alt, sun_altaz.T.az))"
   ]
  },
  {
   "cell_type": "markdown",
   "id": "d1cb74eb",
   "metadata": {
    "cell_marker": "##############################################################################",
    "lines_to_next_cell": 0
   },
   "source": [
    "Next let’s check this calculation by converting it back to helioprojective.\n",
    "We should get our original input which was the center of the Sun.\n",
    "To go from Altitude/Azimuth to Helioprojective, you will need the distance\n",
    "to the Sun. solar distance. Define distance with SunPy’s almanac."
   ]
  },
  {
   "cell_type": "code",
   "execution_count": null,
   "id": "256c47b2",
   "metadata": {},
   "outputs": [],
   "source": [
    "distance = get_sunearth_distance(noon)\n",
    "b = SkyCoord(az=sun_altaz.T.az, alt=sun_altaz.T.alt, distance=distance, frame=AltAz(obstime=noon,location=dkist))\n",
    "sun_helioproj = b.transform_to(frames.Helioprojective)\n",
    "print('The helioprojective point is {0}, {1}'.format(sun_helioproj.T.Tx, sun_helioproj.T.Ty))"
   ]
  },
  {
   "cell_type": "markdown",
   "id": "0c644bc5",
   "metadata": {
    "cell_marker": "##############################################################################",
    "lines_to_next_cell": 0
   },
   "source": [
    "Let's now show off how we can convert between Solar coordinates Coordinates.\n",
    "Transform to HeliographicStonyhurst"
   ]
  },
  {
   "cell_type": "code",
   "execution_count": null,
   "id": "096ab427",
   "metadata": {},
   "outputs": [],
   "source": [
    "sun.transform_to(frames.HeliographicStonyhurst)"
   ]
  },
  {
   "cell_type": "markdown",
   "id": "5de853f0",
   "metadata": {
    "cell_marker": "##############################################################################",
    "lines_to_next_cell": 0
   },
   "source": [
    "Transform to Heliocentric"
   ]
  },
  {
   "cell_type": "code",
   "execution_count": null,
   "id": "f0ad5ebd",
   "metadata": {},
   "outputs": [],
   "source": [
    "sun.transform_to(frames.Heliocentric)"
   ]
  },
  {
   "cell_type": "markdown",
   "id": "75469520",
   "metadata": {
    "cell_marker": "##############################################################################",
    "lines_to_next_cell": 0
   },
   "source": [
    "Transform to HeliographicCarrington"
   ]
  },
  {
   "cell_type": "code",
   "execution_count": null,
   "id": "6ee9a481",
   "metadata": {},
   "outputs": [],
   "source": [
    "sun.transform_to(frames.HeliographicCarrington)"
   ]
  }
 ],
 "metadata": {
  "jupytext": {
   "cell_metadata_filter": "-all",
   "encoding": "# coding: utf-8",
   "main_language": "python",
   "notebook_metadata_filter": "-all"
  },
  "kernelspec": {
   "display_name": "Python 3 (ipykernel)",
   "language": "python",
   "name": "python3"
  },
  "language_info": {
   "codemirror_mode": {
    "name": "ipython",
    "version": 3
   },
   "file_extension": ".py",
   "mimetype": "text/x-python",
   "name": "python",
   "nbconvert_exporter": "python",
   "pygments_lexer": "ipython3",
   "version": "3.10.2"
  }
 },
 "nbformat": 4,
 "nbformat_minor": 5
}
