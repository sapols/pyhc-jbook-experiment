{
 "cells": [
  {
   "cell_type": "markdown",
   "metadata": {},
   "source": [
    "# hapiclient & hapiplot"
   ]
  },
  {
   "cell_type": "markdown",
   "metadata": {},
   "source": [
    "The Heliophysics Data Application Programmer’s Interface (HAPI) specification is a time series download and streaming format specification. There are several independent HAPI servers that enable a unified interface to data provided on those servers. See http://hapi-server.org/ for more information.\n",
    "\n",
    "You can access data in Python with `hapiclient` and quickly plot such data with `hapiplot`:\n",
    "- https://github.com/hapi-server/client-python\n",
    "- https://github.com/hapi-server/plot-python"
   ]
  },
  {
   "cell_type": "code",
   "execution_count": null,
   "metadata": {},
   "outputs": [],
   "source": [
    "from hapiclient import hapi\n",
    "from hapiplot import hapiplot"
   ]
  },
  {
   "cell_type": "code",
   "execution_count": null,
   "metadata": {},
   "outputs": [],
   "source": [
    "# Get Dst index from CDAWeb HAPI server\n",
    "\n",
    "# See http://hapi-server.org/servers/ for a list of\n",
    "# other HAPI servers and datasets.\n",
    "server     = 'https://cdaweb.gsfc.nasa.gov/hapi'\n",
    "dataset    = 'OMNI2_H0_MRG1HR'\n",
    "start      = '2003-09-01T00:00:00'\n",
    "stop       = '2003-12-01T00:00:00'\n",
    "parameters = 'DST1800'\n",
    "opts       = {'logging': True}\n",
    "\n",
    "# Get data\n",
    "data, meta = hapi(server, dataset, parameters, start, stop, **opts)"
   ]
  },
  {
   "cell_type": "code",
   "execution_count": null,
   "metadata": {},
   "outputs": [],
   "source": [
    "print(meta)\n"
   ]
  },
  {
   "cell_type": "code",
   "execution_count": null,
   "metadata": {},
   "outputs": [],
   "source": [
    "print(data)"
   ]
  },
  {
   "cell_type": "code",
   "execution_count": null,
   "metadata": {},
   "outputs": [],
   "source": [
    "# Plot all parameters\n",
    "hapiplot(data, meta)"
   ]
  }
 ],
 "metadata": {
  "kernelspec": {
   "display_name": "Python 3 (ipykernel)",
   "language": "python",
   "name": "python3"
  },
  "language_info": {
   "codemirror_mode": {
    "name": "ipython",
    "version": 3
   },
   "file_extension": ".py",
   "mimetype": "text/x-python",
   "name": "python",
   "nbconvert_exporter": "python",
   "pygments_lexer": "ipython3"
  },
  "vscode": {
   "interpreter": {
    "hash": "ca336f8ec9ffab156b20404c5e73bb01f915d1dd9c11e14c22d6974d61fff437"
   }
  }
 },
 "nbformat": 4,
 "nbformat_minor": 2
}
