{
 "cells": [
  {
   "cell_type": "markdown",
   "id": "7aaddc93",
   "metadata": {},
   "source": [
    "# Model-Data Comparison Workflow using Kamodo and Pysat\n",
    "This workflow uses Kamodo to compare simulated in-situ values with observational values along a satellite trajectory. \n",
    "### Calculating the simulated values along a trajectory\n",
    "The following block retrieves a real satellite trajectory from SSCWeb and calculates the simulated values of the requested variable(s) for each trajectory location. The code snippet below works for a variety of model names, satellites, time ranges, variables, and coordinate systems, so feel free to play. The output of the RealFlight function is functionalized with a single line at the bottom of the block. The output of kamodo_object shows the LaTeX representation of the variable(s) requested in the RealFlight function call."
   ]
  },
  {
   "cell_type": "code",
   "execution_count": null,
   "id": "b357d738",
   "metadata": {
    "scrolled": true
   },
   "outputs": [],
   "source": [
    "from kamodo_ccmc.flythrough import SatelliteFlythrough as SF\n",
    "import datetime as dt\n",
    "\n",
    "# Set input values for RealFlight function call.\n",
    "model = 'TIEGCM'\n",
    "file_dir = 'C:/Users/rringuet/Kamodo_Data/TIEGCM/Uriel_Ramirez_012517_IT_1/'\n",
    "dataset = 'cnofs'\n",
    "start_utcts = dt.datetime(2015, 3, 18, 0).replace(tzinfo=dt.timezone.utc).timestamp()\n",
    "end_utcts = dt.datetime(2015, 3, 21, 0).replace(tzinfo=dt.timezone.utc).timestamp()-1\n",
    "variable_list = ['T_i'] # list of desired variable names\n",
    "coord_type = 'GEO'  # GEO cartesian coordinates for the trajectory.\n",
    "results = SF.RealFlight(dataset, start_utcts, end_utcts, model, file_dir, \n",
    "                        variable_list, coord_type)\n",
    "\n",
    "# Functionalize the results\n",
    "kamodo_object = SF.WO.Functionalize_SFResults(model,results)\n",
    "kamodo_object"
   ]
  },
  {
   "cell_type": "markdown",
   "id": "6d335d58",
   "metadata": {},
   "source": [
    "### Downloading and cleaning the observational data\n",
    "The following code block uses pysat to download and clean the observational data. The satellite is chosen to be the same satellite as in the above block so the same trajectory is used. The instrument is chosen to correspond to the same variable as in the simulated data above for a proper comparison. Please feel free to change the satellite and variable names in parallel with any changes in the above code block. Keep in mind that different satellites are stored in different sections of pysat, which may require installing additional portions of pysat."
   ]
  },
  {
   "cell_type": "code",
   "execution_count": null,
   "id": "9424d56b",
   "metadata": {},
   "outputs": [],
   "source": [
    "# Get CINDI ion temperature data using pysat.\n",
    "import pysat  # pip install pysat\n",
    "import pysatNASA  # pip install pysatNASA\n",
    "\n",
    "pysat_datadir = 'C:/Users/rringuet/Kamodo_Data/pysat_data/'\n",
    "# pysat.params['data_dirs'] = pysat_datadir  # Only needed the first time\n",
    "pysat.utils.registry.register(['pysatNASA.instruments.cnofs_ivm'])\n",
    "ivm = pysat.Instrument('cnofs', 'ivm', inst_id='', clean_level='clean')\n",
    "start_download_date = dt.datetime.utcfromtimestamp(start_utcts)\n",
    "stop_download_date = dt.datetime.utcfromtimestamp(end_utcts)\n",
    "# ivm.download(start_download_date, stop_download_date)  # already on machine\n",
    "ivm.load(date=start_download_date, end_date=stop_download_date)"
   ]
  },
  {
   "cell_type": "markdown",
   "id": "bbf2e6a2",
   "metadata": {},
   "source": [
    "### Functionalizing the observational data\n",
    "Next, we must functionalize the observational data to access the capabilities of Kamodo for the comparison. Pysat returns data in pandas dataframes, so a few lines of code are necessary to retrieve the utc timestamps. Once that is completed, the observational time series is functionalized in a single command (kamodo_object = ...). With both the simulated and observational data in the same Kamodo object, various Kamodo capabilities can be used to analyze the datasets, including function composition as shown at the end of the block. If a different measurement is used in the previous blocks, you will need to use pysat's features to retrieve the proper unit and variable name for the observational data."
   ]
  },
  {
   "cell_type": "code",
   "execution_count": null,
   "id": "9b453e4e",
   "metadata": {},
   "outputs": [],
   "source": [
    "# Convert pandas timestamps into utc timestamps\n",
    "import numpy as np\n",
    "utc_time = ivm.index.values.astype(np.int64)/1e9\n",
    "\n",
    "# Add to kamodo object.\n",
    "kamodo_object = SF.WO.Functionalize_TimeSeries(utc_time, 'CINDIT_i', 'K', \n",
    "                                               ivm.data['ionTemperature'].values, \n",
    "                                               kamodo_object)\n",
    "kamodo_object['DIFF'] = 'abs(CINDIT_i - T_i)'\n",
    "kamodo_object"
   ]
  },
  {
   "cell_type": "markdown",
   "id": "ebe79675",
   "metadata": {},
   "source": [
    "### Visualization\n",
    "Now that the simulated and observational data have been functionalized, we can easily plot any functions desired with a single command. The figure can be saved in full interactive form. Please see the Plotly documentation for more details on this feature. https://plotly.com/python-api-reference/index.html"
   ]
  },
  {
   "cell_type": "code",
   "execution_count": null,
   "id": "67f9b7da",
   "metadata": {},
   "outputs": [],
   "source": [
    "# Now we can plot model and data on the same figure with the difference\n",
    "kamodo_object.plot('T_i','CINDIT_i','DIFF')"
   ]
  }
 ],
 "metadata": {
  "kernelspec": {
   "display_name": "Python 3 (ipykernel)",
   "language": "python",
   "name": "python3"
  },
  "language_info": {
   "codemirror_mode": {
    "name": "ipython",
    "version": 3
   },
   "file_extension": ".py",
   "mimetype": "text/x-python",
   "name": "python",
   "nbconvert_exporter": "python",
   "pygments_lexer": "ipython3",
   "version": "3.7.13"
  }
 },
 "nbformat": 4,
 "nbformat_minor": 5
}
