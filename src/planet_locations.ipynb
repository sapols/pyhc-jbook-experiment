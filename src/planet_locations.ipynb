{
 "cells": [
  {
   "cell_type": "markdown",
   "id": "e253a76d-9953-4581-8f60-e8a459a7bcb0",
   "metadata": {},
   "source": [
    "# Planet Positions in the Solar System"
   ]
  },
  {
   "cell_type": "markdown",
   "id": "470f45e9",
   "metadata": {
    "cell_marker": "\"\"\""
   },
   "source": [
    "The purpose of this demo is to demonstrate the ability of sunpy\n",
    "to get the position of planetary bodies im the solar system."
   ]
  },
  {
   "cell_type": "markdown",
   "id": "a3ceaded",
   "metadata": {
    "cell_marker": "##############################################################################",
    "lines_to_next_cell": 0
   },
   "source": [
    "First the imports"
   ]
  },
  {
   "cell_type": "code",
   "execution_count": null,
   "id": "e2e41fce",
   "metadata": {},
   "outputs": [],
   "source": [
    "from astropy.coordinates import SkyCoord\n",
    "from sunpy.coordinates import get_body_heliographic_stonyhurst\n",
    "from astropy.time import Time\n",
    "import matplotlib.pyplot as plt\n",
    "import numpy as np"
   ]
  },
  {
   "cell_type": "markdown",
   "id": "0a1fb393",
   "metadata": {
    "cell_marker": "##############################################################################",
    "lines_to_next_cell": 0
   },
   "source": [
    "Lets grab the positions of each of the planets in stonyhurt coordinates."
   ]
  },
  {
   "cell_type": "code",
   "execution_count": null,
   "id": "fa8bb14d",
   "metadata": {},
   "outputs": [],
   "source": [
    "obstime = Time('2014-05-15T07:54:00.005')\n",
    "planet_list = ['earth', 'venus', 'mars', 'mercury', 'jupiter', 'neptune', 'uranus']\n",
    "planet_coord = [get_body_heliographic_stonyhurst(this_planet, time=obstime) for this_planet in planet_list]"
   ]
  },
  {
   "cell_type": "markdown",
   "id": "9dd07da5",
   "metadata": {
    "cell_marker": "##############################################################################",
    "lines_to_next_cell": 0
   },
   "source": [
    "Now lets make a plot."
   ]
  },
  {
   "cell_type": "code",
   "execution_count": null,
   "id": "64b02e59",
   "metadata": {},
   "outputs": [],
   "source": [
    "fig = plt.figure()\n",
    "ax1 = plt.subplot(1, 1, 1, projection='polar')\n",
    "for this_planet, this_coord in zip(planet_list, planet_coord):\n",
    "    plt.polar(np.deg2rad(this_coord.lon), this_coord.radius, 'o', label=this_planet)\n",
    "plt.legend()\n",
    "plt.show()"
   ]
  }
 ],
 "metadata": {
  "jupytext": {
   "cell_metadata_filter": "-all",
   "encoding": "# coding: utf-8",
   "main_language": "python",
   "notebook_metadata_filter": "-all"
  },
  "kernelspec": {
   "display_name": "Python 3 (ipykernel)",
   "language": "python",
   "name": "python3"
  },
  "language_info": {
   "codemirror_mode": {
    "name": "ipython",
    "version": 3
   },
   "file_extension": ".py",
   "mimetype": "text/x-python",
   "name": "python",
   "nbconvert_exporter": "python",
   "pygments_lexer": "ipython3",
   "version": "3.10.2"
  }
 },
 "nbformat": 4,
 "nbformat_minor": 5
}
