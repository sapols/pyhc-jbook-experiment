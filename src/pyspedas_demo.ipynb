{
 "cells": [
  {
   "cell_type": "markdown",
   "metadata": {
    "jupyter": {
     "outputs_hidden": false
    }
   },
   "source": [
    "# PySPEDAS & PyTplot"
   ]
  },
  {
   "cell_type": "markdown",
   "metadata": {},
   "source": [
    "`pyspedas` provides downloading and processing tools, while `pytplot` provides visualisation.\n",
    "\n",
    "See for more info:\n",
    "- https://pyspedas.readthedocs.io/\n",
    "- https://pytplot.readthedocs.io/"
   ]
  },
  {
   "cell_type": "code",
   "execution_count": null,
   "metadata": {},
   "outputs": [],
   "source": [
    "import pyspedas\n",
    "from pytplot import tplot"
   ]
  },
  {
   "cell_type": "markdown",
   "metadata": {},
   "source": [
    "Workaround a problem (see https://github.com/spedas/pyspedas/issues/276):"
   ]
  },
  {
   "cell_type": "code",
   "execution_count": null,
   "metadata": {},
   "outputs": [],
   "source": [
    "import os\n",
    "import pickle\n",
    "\n",
    "pickle.dump({'user': '', 'passwd': ''}, open(os.sep.join([os.path.expanduser('~'), 'mms_auth_info.pkl']), 'wb'))"
   ]
  },
  {
   "cell_type": "markdown",
   "metadata": {},
   "source": [
    "## Downloading and loading with pyspedas"
   ]
  },
  {
   "cell_type": "code",
   "execution_count": null,
   "metadata": {},
   "outputs": [],
   "source": [
    "\n",
    "time_range = ['2020-04-20/06:00', '2020-04-20/08:00']\n",
    "\n",
    "pyspedas.solo.mag(trange=time_range, time_clip=True)\n",
    "pyspedas.psp.fields(trange=time_range, time_clip=True)\n",
    "pyspedas.mms.fgm(trange=time_range, time_clip=True, probe=2)\n",
    "pyspedas.themis.fgm(trange=time_range, time_clip=True, probe='d')"
   ]
  },
  {
   "cell_type": "markdown",
   "metadata": {},
   "source": [
    "## Plotting with pytplot"
   ]
  },
  {
   "cell_type": "code",
   "execution_count": null,
   "metadata": {},
   "outputs": [],
   "source": [
    "tplot(['B_RTN', 'psp_fld_l2_mag_RTN', 'mms2_fgm_b_gsm_srvy_l2_bvec', 'thd_fgs_gsm'])"
   ]
  }
 ],
 "metadata": {
  "kernelspec": {
   "display_name": "Python 3 (ipykernel)",
   "language": "python",
   "name": "python3"
  },
  "language_info": {
   "codemirror_mode": {
    "name": "ipython",
    "version": 3
   },
   "file_extension": ".py",
   "mimetype": "text/x-python",
   "name": "python",
   "nbconvert_exporter": "python",
   "pygments_lexer": "ipython3"
  },
  "vscode": {
   "interpreter": {
    "hash": "ca336f8ec9ffab156b20404c5e73bb01f915d1dd9c11e14c22d6974d61fff437"
   }
  }
 },
 "nbformat": 4,
 "nbformat_minor": 4
}
