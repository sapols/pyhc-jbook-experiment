{
 "cells": [
  {
   "cell_type": "code",
   "execution_count": 1,
   "metadata": {
    "jupyter": {
     "outputs_hidden": false
    }
   },
   "outputs": [],
   "source": [
    "%matplotlib inline"
   ]
  },
  {
   "cell_type": "markdown",
   "metadata": {},
   "source": [
    "\n",
    "# pySPEDAS Demo\n",
    "\n",
    "Written by Nick Hatzigeorgiu and Shawn Polson. \n",
    "\n",
    "The purpose of this demo is to demonstrate some of the capabilities of the pySPEDAS package.\n"
   ]
  },
  {
   "cell_type": "markdown",
   "metadata": {},
   "source": [
    "The pySPEDAS package contains functions for downloading data from NASA missions \n",
    "and tools for data analysis and data plotting. It works together with the \n",
    "pytplot and the cdflib packages.\n",
    "\n",
    "pySPEDAS is a python implementation of the SPEDAS software which is written \n",
    "in the IDL programming language. For more information on SPEDAS, \n",
    "see: http://spedas.org/wiki/\n",
    "\n"
   ]
  },
  {
   "cell_type": "code",
   "execution_count": 2,
   "metadata": {
    "jupyter": {
     "outputs_hidden": false
    }
   },
   "outputs": [],
   "source": [
    "import pyspedas\n",
    "import pytplot\n",
    "from pyspedas import clean_spikes, version\n",
    "from pytplot import del_data, get_data, store_data, tplot_options, tplot_names, tplot\n",
    "import os\n",
    "import pickle"
   ]
  },
  {
   "cell_type": "markdown",
   "metadata": {},
   "source": [
    "## Load and plot THEMIS data\n",
    "\n"
   ]
  },
  {
   "cell_type": "markdown",
   "metadata": {},
   "source": [
    "Note: pySPEDAS uses an environment variable SPEDAS_DATA_DIR to determine the \n",
    "local path for saving data files. SPEDAS_DATA_DIR acts as a root data directory \n",
    "for all missions, but mission-specific data directories \n",
    "(e.g., MMS_DATA_DIR for MMS, THM_DATA_DIR for THEMIS) can also be set, \n",
    "and these will override SPEDAS_DATA_DIR.\n",
    "\n",
    "We can find the version of the installed pyspedas package using `version()`.  \n",
    "\n"
   ]
  },
  {
   "cell_type": "code",
   "execution_count": 5,
   "metadata": {},
   "outputs": [
    {
     "name": "stdout",
     "output_type": "stream",
     "text": [
      "# packages in environment at /Users/shpo9723/opt/anaconda3/envs/pyhc:\r\n",
      "#\r\n",
      "# Name                    Version                   Build  Channel\r\n",
      "aiapy                     0.6.4                    pypi_0    pypi\r\n",
      "aiofiles                  0.8.0              pyhd8ed1ab_0    conda-forge\r\n",
      "aioftp                    0.21.3             pyhd8ed1ab_0    conda-forge\r\n",
      "aiohttp                   3.8.1                    pypi_0    pypi\r\n",
      "aiosignal                 1.2.0              pyhd8ed1ab_0    conda-forge\r\n",
      "alabaster                 0.7.12                     py_0    conda-forge\r\n",
      "aniso8601                 9.0.1                    pypi_0    pypi\r\n",
      "antlr4-python3-runtime    4.7                      pypi_0    pypi\r\n",
      "anyio                     3.6.1              pyhd8ed1ab_1    conda-forge\r\n",
      "aom                       3.4.0                hb486fe8_1    conda-forge\r\n",
      "appnope                   0.1.3              pyhd8ed1ab_0    conda-forge\r\n",
      "argon2-cffi               21.3.0             pyhd8ed1ab_0    conda-forge\r\n",
      "argon2-cffi-bindings      21.2.0                   pypi_0    pypi\r\n",
      "asteval                   0.9.27             pyhd8ed1ab_0    conda-forge\r\n",
      "astropy                   5.0.4                    pypi_0    pypi\r\n",
      "astropy-healpix           0.6                      pypi_0    pypi\r\n",
      "asttokens                 2.0.8              pyhd8ed1ab_0    conda-forge\r\n",
      "async-timeout             4.0.2              pyhd8ed1ab_0    conda-forge\r\n",
      "attrs                     21.4.0             pyhd8ed1ab_0    conda-forge\r\n",
      "babel                     2.10.3             pyhd8ed1ab_0    conda-forge\r\n",
      "backcall                  0.2.0              pyh9f0ad1d_0    conda-forge\r\n",
      "backports                 1.0                        py_2    conda-forge\r\n",
      "backports.functools_lru_cache 1.6.4              pyhd8ed1ab_0    conda-forge\r\n",
      "beautifulsoup4            4.11.1             pyha770c72_0    conda-forge\r\n",
      "bleach                    5.0.1              pyhd8ed1ab_0    conda-forge\r\n",
      "blosc                     1.21.1               h97e831e_3    conda-forge\r\n",
      "bokeh                     2.4.3              pyhd8ed1ab_3    conda-forge\r\n",
      "brotli                    1.0.9                h5eb16cf_7    conda-forge\r\n",
      "brotli-bin                1.0.9                h5eb16cf_7    conda-forge\r\n",
      "brotlipy                  0.7.0                    pypi_0    pypi\r\n",
      "brunsli                   0.1                  h046ec9c_0    conda-forge\r\n",
      "bzip2                     1.0.8                h0d85af4_4    conda-forge\r\n",
      "c-ares                    1.18.1               h0d85af4_0    conda-forge\r\n",
      "c-blosc2                  2.3.1                had5f71b_0    conda-forge\r\n",
      "ca-certificates           2022.4.26            hecd8cb5_0    anaconda\r\n",
      "cached-property           1.5.2                hd8ed1ab_1    conda-forge\r\n",
      "cached_property           1.5.2              pyha770c72_1    conda-forge\r\n",
      "cartopy                   0.20.3                   pypi_0    pypi\r\n",
      "cctools                   973.0.1             h76f1dac_10    conda-forge\r\n",
      "cctools_osx-64            973.0.1             h2b95895_10    conda-forge\r\n",
      "cdasws                    1.7.41                   pypi_0    pypi\r\n",
      "cdflib                    0.3.20                   pypi_0    pypi\r\n",
      "certifi                   2022.6.15                pypi_0    pypi\r\n",
      "cffi                      1.15.1                   pypi_0    pypi\r\n",
      "cfgv                      3.3.1              pyhd8ed1ab_0    conda-forge\r\n",
      "cfitsio                   4.1.0                h2c97ad1_0    conda-forge\r\n",
      "cftime                    1.6.1                    pypi_0    pypi\r\n",
      "charls                    2.3.4                he49afe7_0    conda-forge\r\n",
      "charset-normalizer        2.1.1              pyhd8ed1ab_0    conda-forge\r\n",
      "clang                     14.0.4               h694c41f_0    conda-forge\r\n",
      "clang-14                  14.0.4          default_h55ffa42_0    conda-forge\r\n",
      "clang_osx-64              14.0.4               h3a95cd4_2    conda-forge\r\n",
      "clangxx                   14.0.4          default_h55ffa42_0    conda-forge\r\n",
      "click                     8.1.3                    pypi_0    pypi\r\n",
      "click-completion          0.5.2                    pypi_0    pypi\r\n",
      "click-log                 0.4.0              pyhd8ed1ab_0    conda-forge\r\n",
      "cloudpickle               2.1.0              pyhd8ed1ab_0    conda-forge\r\n",
      "colorama                  0.4.5              pyhd8ed1ab_0    conda-forge\r\n",
      "compiler-rt               14.0.4               h7fcd477_0    conda-forge\r\n",
      "compiler-rt_osx-64        14.0.4               h6df654d_0    conda-forge\r\n",
      "cryptography              37.0.4                   pypi_0    pypi\r\n",
      "curl                      7.83.1               h372c54d_0    conda-forge\r\n",
      "cycler                    0.11.0             pyhd8ed1ab_0    conda-forge\r\n",
      "cytoolz                   0.11.2                   pypi_0    pypi\r\n",
      "dask-core                 2022.8.1           pyhd8ed1ab_0    conda-forge\r\n",
      "dataclasses               0.8                pyhc8e2a94_3    conda-forge\r\n",
      "dav1d                     1.0.0                hac89ed1_1    conda-forge\r\n",
      "debugpy                   1.6.3                    pypi_0    pypi\r\n",
      "decorator                 5.1.1              pyhd8ed1ab_0    conda-forge\r\n",
      "defusedxml                0.7.1              pyhd8ed1ab_0    conda-forge\r\n",
      "distlib                   0.3.5              pyhd8ed1ab_0    conda-forge\r\n",
      "docutils                  0.15.2                   pypi_0    pypi\r\n",
      "drms                      0.6.2              pyhd8ed1ab_0    conda-forge\r\n",
      "entrypoints               0.4                pyhd8ed1ab_0    conda-forge\r\n",
      "executing                 1.0.0              pyhd8ed1ab_0    conda-forge\r\n",
      "filelock                  3.8.0              pyhd8ed1ab_0    conda-forge\r\n",
      "flask                     1.1.2                    pypi_0    pypi\r\n",
      "flask-cors                3.0.10                   pypi_0    pypi\r\n",
      "flask-restful             0.3.8                    pypi_0    pypi\r\n",
      "flit-core                 3.7.1              pyhd8ed1ab_0    conda-forge\r\n",
      "fonttools                 4.37.0                   pypi_0    pypi\r\n",
      "freetype                  2.12.1               h3f81eb7_0    conda-forge\r\n",
      "frozenlist                1.3.1                    pypi_0    pypi\r\n",
      "fsspec                    2022.7.1           pyhd8ed1ab_0    conda-forge\r\n",
      "future                    0.18.2                   pypi_0    pypi\r\n",
      "geos                      3.11.0               hb486fe8_0    conda-forge\r\n",
      "gfortran                  11.2.0               h1a9baa2_0  \r\n",
      "gfortran_impl_osx-64      11.3.0              h4c39eb8_25    conda-forge\r\n",
      "gfortran_osx-64           11.3.0               h18f7dce_0    conda-forge\r\n",
      "giflib                    5.2.1                hbcb3906_2    conda-forge\r\n",
      "gitdb                     4.0.9              pyhd8ed1ab_0    conda-forge\r\n",
      "gitpython                 3.1.27             pyhd8ed1ab_0    conda-forge\r\n",
      "glymur                    0.11.3             pyhd8ed1ab_0    conda-forge\r\n",
      "gmp                       6.2.1                h2e338ed_0    conda-forge\r\n",
      "greenlet                  1.1.3                    pypi_0    pypi\r\n",
      "h5netcdf                  1.0.2              pyhd8ed1ab_0    conda-forge\r\n",
      "h5py                      3.7.0                    pypi_0    pypi\r\n",
      "hapiclient                0.2.5                    pypi_0    pypi\r\n",
      "hapiplot                  0.2.1                    pypi_0    pypi\r\n",
      "hdf4                      4.2.15               h0623a88_4    conda-forge\r\n",
      "hdf5                      1.12.1          nompi_ha60fbc9_104    conda-forge\r\n",
      "hydra-core                0.11.3                   pypi_0    pypi\r\n",
      "hypothesis                6.47.1             pyhd8ed1ab_0    conda-forge\r\n",
      "icu                       70.1                 h96cf925_0    conda-forge\r\n",
      "identify                  2.5.3              pyhd8ed1ab_0    conda-forge\r\n",
      "idna                      3.3                pyhd8ed1ab_0    conda-forge\r\n",
      "imagecodecs               2022.8.8                 pypi_0    pypi\r\n",
      "imageio                   2.21.2             pyhfa7a67d_0    conda-forge\r\n",
      "imagesize                 1.4.1              pyhd8ed1ab_0    conda-forge\r\n",
      "importlib-metadata        4.11.4                   pypi_0    pypi\r\n",
      "importlib_metadata        4.11.4               hd8ed1ab_0    conda-forge\r\n",
      "importlib_resources       5.9.0              pyhd8ed1ab_0    conda-forge\r\n",
      "incremental               21.3.0                   pypi_0    pypi\r\n",
      "iniconfig                 1.1.1              pyh9f0ad1d_0    conda-forge\r\n",
      "ipykernel                 6.9.1                    pypi_0    pypi\r\n",
      "ipython                   8.4.0              pyhd1c38e8_1    conda-forge\r\n",
      "ipython_genutils          0.2.0                      py_1    conda-forge\r\n",
      "ipywidgets                7.7.2              pyhd8ed1ab_0    conda-forge\r\n",
      "isl                       0.22.1               hb1e8313_2    conda-forge\r\n",
      "isodate                   0.6.1              pyhd8ed1ab_0    conda-forge\r\n",
      "itsdangerous              2.1.2                    pypi_0    pypi\r\n",
      "jedi                      0.18.1             pyhd8ed1ab_2    conda-forge\r\n",
      "jinja2                    3.0.3              pyhd8ed1ab_0    conda-forge\r\n",
      "joblib                    1.1.0                    pypi_0    pypi\r\n",
      "jpeg                      9e                   hac89ed1_2    conda-forge\r\n",
      "json5                     0.9.5              pyh9f0ad1d_0    conda-forge\r\n",
      "jsonschema                3.2.0              pyhd8ed1ab_3    conda-forge\r\n",
      "jupyter-book              0.12.3             pyhd8ed1ab_0    conda-forge\r\n",
      "jupyter-cache             0.4.3              pyhd8ed1ab_0    conda-forge\r\n",
      "jupyter-core              4.11.1                   pypi_0    pypi\r\n",
      "jupyter-server-mathjax    0.2.6              pyhc268e32_0    conda-forge\r\n",
      "jupyter-sphinx            0.3.2              pyhd8ed1ab_1    conda-forge\r\n",
      "jupyter_client            7.3.5              pyhd8ed1ab_0    conda-forge\r\n",
      "jupyter_core              4.11.1          py310h2ec42d9_0    conda-forge\r\n",
      "jupyter_server            1.18.1             pyhd8ed1ab_0    conda-forge\r\n",
      "jupyterlab                3.4.7              pyhd8ed1ab_0    conda-forge\r\n",
      "jupyterlab-git            0.39.2             pyhd8ed1ab_0    conda-forge\r\n",
      "jupyterlab_pygments       0.2.2              pyhd8ed1ab_0    conda-forge\r\n",
      "jupyterlab_server         2.15.1             pyhd8ed1ab_0    conda-forge\r\n",
      "jupyterlab_widgets        1.1.1              pyhd8ed1ab_0    conda-forge\r\n",
      "jxrlib                    1.1                  h35c211d_2    conda-forge\r\n",
      "kamodo                    21.10.0                  pypi_0    pypi\r\n",
      "kiwisolver                1.4.4                    pypi_0    pypi\r\n",
      "krb5                      1.19.3               hb49756b_0    conda-forge\r\n",
      "latexcodec                2.0.1              pyh9f0ad1d_0    conda-forge\r\n",
      "lcms2                     2.12                 h577c468_0    conda-forge\r\n",
      "ld64                      609                 hc6ad406_10    conda-forge\r\n",
      "ld64_osx-64               609                 h1e06c2b_10    conda-forge\r\n",
      "lerc                      4.0.0                hb486fe8_0    conda-forge\r\n",
      "libaec                    1.0.6                he49afe7_0    conda-forge\r\n",
      "libavif                   0.10.1               hac89ed1_1    conda-forge\r\n",
      "libblas                   3.9.0           16_osx64_openblas    conda-forge\r\n",
      "libbrotlicommon           1.0.9                h5eb16cf_7    conda-forge\r\n",
      "libbrotlidec              1.0.9                h5eb16cf_7    conda-forge\r\n",
      "libbrotlienc              1.0.9                h5eb16cf_7    conda-forge\r\n",
      "libcblas                  3.9.0           16_osx64_openblas    conda-forge\r\n",
      "libclang-cpp14            14.0.4          default_h55ffa42_0    conda-forge\r\n",
      "libcurl                   7.83.1               h372c54d_0    conda-forge\r\n",
      "libcxx                    14.0.6               hccf4f1f_0    conda-forge\r\n",
      "libdeflate                1.13                 h775f41a_0    conda-forge\r\n",
      "libedit                   3.1.20191231         h0678c8f_2    conda-forge\r\n",
      "libev                     4.33                 haf1e3a3_1    conda-forge\r\n",
      "libffi                    3.4.2                h0d85af4_5    conda-forge\r\n",
      "libgfortran               5.0.0           10_4_0_h97931a8_25    conda-forge\r\n",
      "libgfortran-devel_osx-64  11.3.0              h824d247_25    conda-forge\r\n",
      "libgfortran5              11.3.0              h082f757_25    conda-forge\r\n",
      "libiconv                  1.16                 haf1e3a3_0    conda-forge\r\n",
      "liblapack                 3.9.0           16_osx64_openblas    conda-forge\r\n",
      "libllvm14                 14.0.4               h41df66c_0    conda-forge\r\n",
      "libnetcdf                 4.8.1           nompi_h6609ca0_102    conda-forge\r\n",
      "libnghttp2                1.47.0               h7cbc4dc_1    conda-forge\r\n",
      "libopenblas               0.3.21          openmp_h947e540_2    conda-forge\r\n",
      "libpng                    1.6.37               h5481273_4    conda-forge\r\n",
      "libsodium                 1.0.18               hbcb3906_1    conda-forge\r\n",
      "libsqlite                 3.39.2               h5a3d3bf_1    conda-forge\r\n",
      "libssh2                   1.10.0               h7535e13_3    conda-forge\r\n",
      "libtiff                   4.4.0                h5e0c7b4_3    conda-forge\r\n",
      "libwebp-base              1.2.4                h775f41a_0    conda-forge\r\n",
      "libxcb                    1.13              h0d85af4_1004    conda-forge\r\n",
      "libxml2                   2.9.14               hea49891_4    conda-forge\r\n",
      "libxslt                   1.1.35               heaa0ce8_0    conda-forge\r\n",
      "libzip                    1.9.2                h3ad4413_1    conda-forge\r\n",
      "libzlib                   1.2.12               hfe4f2af_2    conda-forge\r\n",
      "libzopfli                 1.0.3                h046ec9c_0    conda-forge\r\n",
      "linkify-it-py             1.0.3              pyhd8ed1ab_0    conda-forge\r\n",
      "llvm-openmp               14.0.4               ha654fa7_0    conda-forge\r\n",
      "llvm-tools                14.0.4               h41df66c_0    conda-forge\r\n",
      "lmfit                     1.0.3              pyhd8ed1ab_0    conda-forge\r\n",
      "locket                    1.0.0              pyhd8ed1ab_0    conda-forge\r\n",
      "lxml                      4.9.1                    pypi_0    pypi\r\n",
      "lz4-c                     1.9.3                he49afe7_1    conda-forge\r\n",
      "markdown-it-py            1.1.0              pyhd8ed1ab_0    conda-forge\r\n",
      "markupsafe                2.1.1                    pypi_0    pypi\r\n",
      "matplotlib                3.5.3                    pypi_0    pypi\r\n",
      "matplotlib-base           3.5.3           py310h1bfeb8c_2    conda-forge\r\n",
      "matplotlib-inline         0.1.6              pyhd8ed1ab_0    conda-forge\r\n",
      "mdit-py-plugins           0.2.8              pyhd8ed1ab_0    conda-forge\r\n",
      "mistune                   0.8.4                    pypi_0    pypi\r\n",
      "mpc                       1.2.1                hbb51d92_0    conda-forge\r\n",
      "mpfr                      4.1.0                h0f52abe_1    conda-forge\r\n",
      "mpl_animators             1.1.0              pyhd8ed1ab_0    conda-forge\r\n",
      "mpmath                    1.2.1              pyhd8ed1ab_0    conda-forge\r\n",
      "multidict                 6.0.2                    pypi_0    pypi\r\n",
      "munkres                   1.1.4              pyh9f0ad1d_0    conda-forge\r\n",
      "myst-nb                   0.13.2             pyhd8ed1ab_0    conda-forge\r\n",
      "myst-parser               0.15.2             pyhd8ed1ab_0    conda-forge\r\n",
      "nbclassic                 0.4.3              pyhd8ed1ab_0    conda-forge\r\n",
      "nbclient                  0.5.13             pyhd8ed1ab_0    conda-forge\r\n",
      "nbconvert                 6.5.3              pyhd8ed1ab_0    conda-forge\r\n",
      "nbconvert-core            6.5.3              pyhd8ed1ab_0    conda-forge\r\n",
      "nbconvert-pandoc          6.5.3              pyhd8ed1ab_0    conda-forge\r\n",
      "nbdime                    3.1.1              pyhd8ed1ab_0    conda-forge\r\n",
      "nbformat                  5.4.0              pyhd8ed1ab_0    conda-forge\r\n",
      "ncurses                   6.3                  h96cf925_1    conda-forge\r\n",
      "nest-asyncio              1.5.5              pyhd8ed1ab_0    conda-forge\r\n",
      "netcdf4                   1.5.8                    pypi_0    pypi\r\n",
      "networkx                  2.8.6              pyhd8ed1ab_0    conda-forge\r\n",
      "nodeenv                   1.7.0              pyhd8ed1ab_0    conda-forge\r\n",
      "notebook                  6.4.12             pyha770c72_0    conda-forge\r\n",
      "notebook-shim             0.1.0              pyhd8ed1ab_0    conda-forge\r\n",
      "numpy                     1.22.4                   pypi_0    pypi\r\n",
      "omegaconf                 1.4.1                    pypi_0    pypi\r\n",
      "openjpeg                  2.5.0                h5d0d7b0_1    conda-forge\r\n",
      "openssl                   1.1.1q               hca72f7f_0  \r\n",
      "packaging                 21.3               pyhd8ed1ab_0    conda-forge\r\n",
      "pandas                    1.3.5                    pypi_0    pypi\r\n",
      "pandoc                    2.19.2               h694c41f_0    conda-forge\r\n",
      "pandocfilters             1.5.0              pyhd8ed1ab_0    conda-forge\r\n",
      "parfive                   1.5.1              pyhd8ed1ab_0    conda-forge\r\n",
      "parso                     0.8.3              pyhd8ed1ab_0    conda-forge\r\n",
      "partd                     1.3.0              pyhd8ed1ab_0    conda-forge\r\n",
      "pexpect                   4.8.0              pyh9f0ad1d_2    conda-forge\r\n",
      "pickleshare               0.7.5                   py_1003    conda-forge\r\n",
      "pillow                    9.2.0                    pypi_0    pypi\r\n",
      "pip                       22.2.2             pyhd8ed1ab_0    conda-forge\r\n",
      "plasmapy                  0.7.0              pyhd8ed1ab_0    conda-forge\r\n",
      "platformdirs              2.5.2              pyhd8ed1ab_1    conda-forge\r\n",
      "plotly                    5.10.0                   pypi_0    pypi\r\n",
      "pluggy                    1.0.0                    pypi_0    pypi\r\n",
      "portalocker               2.5.1                    pypi_0    pypi\r\n",
      "pre-commit                2.20.0                   pypi_0    pypi\r\n",
      "proj                      9.0.1                h05f0992_1    conda-forge\r\n",
      "prometheus_client         0.14.1             pyhd8ed1ab_0    conda-forge\r\n",
      "prompt-toolkit            3.0.30             pyha770c72_0    conda-forge\r\n",
      "psutil                    5.9.1                    pypi_0    pypi\r\n",
      "pthread-stubs             0.4               hc929b4f_1001    conda-forge\r\n",
      "ptyprocess                0.7.0              pyhd3deb0d_0    conda-forge\r\n",
      "pure_eval                 0.2.2              pyhd8ed1ab_0    conda-forge\r\n",
      "py                        1.11.0             pyh6c4a22f_0    conda-forge\r\n",
      "pybtex                    0.24.0             pyhd8ed1ab_2    conda-forge\r\n",
      "pybtex-docutils           1.0.2                    pypi_0    pypi\r\n",
      "pycapnp                   1.2.0                    pypi_0    pypi\r\n",
      "pycparser                 2.21               pyhd8ed1ab_0    conda-forge\r\n",
      "pydata-sphinx-theme       0.7.2              pyhd8ed1ab_0    conda-forge\r\n",
      "pyerfa                    2.0.0.1                  pypi_0    pypi\r\n",
      "pygments                  2.13.0             pyhd8ed1ab_0    conda-forge\r\n",
      "pyopenssl                 22.0.0             pyhd8ed1ab_0    conda-forge\r\n",
      "pyparsing                 3.0.9              pyhd8ed1ab_0    conda-forge\r\n",
      "pyproj                    3.3.1                    pypi_0    pypi\r\n",
      "pyqt5                     5.15.7                   pypi_0    pypi\r\n",
      "pyqt5-qt5                 5.15.2                   pypi_0    pypi\r\n",
      "pyqt5-sip                 12.11.0                  pypi_0    pypi\r\n",
      "pyqtgraph                 0.12.2                   pypi_0    pypi\r\n",
      "pyqtwebengine             5.15.6                   pypi_0    pypi\r\n",
      "pyqtwebengine-qt5         5.15.2                   pypi_0    pypi\r\n",
      "pyrsistent                0.18.1                   pypi_0    pypi\r\n",
      "pysat                     3.0.4                    pypi_0    pypi\r\n",
      "pysatnasa                 0.0.3                    pypi_0    pypi\r\n",
      "pyshp                     2.3.1              pyhd8ed1ab_0    conda-forge\r\n",
      "pysocks                   1.7.1              pyha2e5f31_6    conda-forge\r\n",
      "pyspedas                  1.2.10                   pypi_0    pypi\r\n",
      "pytest                    7.1.2                    pypi_0    pypi\r\n",
      "pytest-datadir            1.3.1                      py_0    conda-forge\r\n",
      "pytest-regressions        2.3.1              pyhd8ed1ab_0    conda-forge\r\n",
      "python                    3.10.6          ha7b0be1_0_cpython    conda-forge\r\n",
      "python-dateutil           2.8.2              pyhd8ed1ab_0    conda-forge\r\n",
      "python-fastjsonschema     2.16.1             pyhd8ed1ab_0    conda-forge\r\n",
      "python-forge              18.6.0                   pypi_0    pypi\r\n",
      "python_abi                3.10                    2_cp310    conda-forge\r\n",
      "pytplot                   1.7.28                   pypi_0    pypi\r\n",
      "pytplot-mpl-temp          2.0.2                    pypi_0    pypi\r\n",
      "pytz                      2022.2.1           pyhd8ed1ab_0    conda-forge\r\n",
      "pywavelets                1.3.0                    pypi_0    pypi\r\n",
      "pyyaml                    6.0                      pypi_0    pypi\r\n",
      "pyzmq                     23.2.1                   pypi_0    pypi\r\n",
      "readline                  8.1.2                h3899abd_0    conda-forge\r\n",
      "reproject                 0.8                      pypi_0    pypi\r\n",
      "requests                  2.28.1             pyhd8ed1ab_1    conda-forge\r\n",
      "requests-file             1.5.1              pyh9f0ad1d_0    conda-forge\r\n",
      "requests-toolbelt         0.9.1                      py_0    conda-forge\r\n",
      "scikit-image              0.19.3                   pypi_0    pypi\r\n",
      "scipy                     1.7.3                    pypi_0    pypi\r\n",
      "send2trash                1.8.0              pyhd8ed1ab_0    conda-forge\r\n",
      "setuptools                59.8.0                   pypi_0    pypi\r\n",
      "setuptools-scm            7.0.5              pyhd8ed1ab_0    conda-forge\r\n",
      "shapely                   1.8.4                    pypi_0    pypi\r\n",
      "shellingham               1.5.0              pyhd8ed1ab_0    conda-forge\r\n",
      "sigtool                   0.1.3                h57ddcff_0    conda-forge\r\n",
      "six                       1.16.0             pyh6c4a22f_0    conda-forge\r\n",
      "smmap                     3.0.5              pyh44b312d_0    conda-forge\r\n",
      "snappy                    1.1.9                h6e38e02_1    conda-forge\r\n",
      "sniffio                   1.2.0                    pypi_0    pypi\r\n",
      "snowballstemmer           2.2.0              pyhd8ed1ab_0    conda-forge\r\n",
      "sortedcontainers          2.4.0              pyhd8ed1ab_0    conda-forge\r\n",
      "soupsieve                 2.3.2.post1        pyhd8ed1ab_0    conda-forge\r\n",
      "spacepy                   0.2.3                    pypi_0    pypi\r\n",
      "sphinx                    4.5.0              pyh6c4a22f_0    conda-forge\r\n",
      "sphinx-book-theme         0.1.10             pyhd8ed1ab_1    conda-forge\r\n",
      "sphinx-comments           0.0.3              pyh9f0ad1d_0    conda-forge\r\n",
      "sphinx-copybutton         0.5.0              pyhd8ed1ab_0    conda-forge\r\n",
      "sphinx-external-toc       0.2.4              pyhd8ed1ab_0    conda-forge\r\n",
      "sphinx-jupyterbook-latex  0.4.6              pyhd8ed1ab_0    conda-forge\r\n",
      "sphinx-multitoc-numbering 0.1.3              pyhd8ed1ab_0    conda-forge\r\n",
      "sphinx-panels             0.6.0              pyhd8ed1ab_0    conda-forge\r\n",
      "sphinx-thebe              0.1.2              pyhd8ed1ab_0    conda-forge\r\n",
      "sphinx-togglebutton       0.3.1              pyhd8ed1ab_0    conda-forge\r\n",
      "sphinxcontrib-applehelp   1.0.2                      py_0    conda-forge\r\n",
      "sphinxcontrib-bibtex      2.5.0              pyhd8ed1ab_0    conda-forge\r\n",
      "sphinxcontrib-devhelp     1.0.2                      py_0    conda-forge\r\n",
      "sphinxcontrib-htmlhelp    2.0.0              pyhd8ed1ab_0    conda-forge\r\n",
      "sphinxcontrib-jsmath      1.0.1                      py_0    conda-forge\r\n",
      "sphinxcontrib-qthelp      1.0.3                      py_0    conda-forge\r\n",
      "sphinxcontrib-serializinghtml 1.1.5              pyhd8ed1ab_2    conda-forge\r\n",
      "sqlalchemy                1.4.40                   pypi_0    pypi\r\n",
      "sqlite                    3.39.2               hd9f0692_1    conda-forge\r\n",
      "stack_data                0.5.0              pyhd8ed1ab_0    conda-forge\r\n",
      "sunpy                     3.1.8                    pypi_0    pypi\r\n",
      "sympy                     1.5.1                    pypi_0    pypi\r\n",
      "tapi                      1100.0.11            h9ce4665_0    conda-forge\r\n",
      "tenacity                  8.0.1                    pypi_0    pypi\r\n",
      "terminado                 0.15.0                   pypi_0    pypi\r\n",
      "tifffile                  2022.8.12          pyhd8ed1ab_0    conda-forge\r\n",
      "tinycss2                  1.1.1              pyhd8ed1ab_0    conda-forge\r\n",
      "tk                        8.6.12               h5dbffcc_0    conda-forge\r\n",
      "toml                      0.10.2             pyhd8ed1ab_0    conda-forge\r\n",
      "tomli                     2.0.1              pyhd8ed1ab_0    conda-forge\r\n",
      "toolz                     0.12.0             pyhd8ed1ab_0    conda-forge\r\n",
      "tornado                   6.2                      pypi_0    pypi\r\n",
      "tqdm                      4.64.0             pyhd8ed1ab_0    conda-forge\r\n",
      "traitlets                 5.3.0              pyhd8ed1ab_0    conda-forge\r\n",
      "typing-extensions         4.3.0                hd8ed1ab_0    conda-forge\r\n",
      "typing_extensions         4.3.0              pyha770c72_0    conda-forge\r\n",
      "tzdata                    2022c                h191b570_0    conda-forge\r\n",
      "uc-micro-py               1.0.1              pyhd8ed1ab_0    conda-forge\r\n",
      "ukkonen                   1.0.1                    pypi_0    pypi\r\n",
      "uncertainties             3.1.7              pyhd8ed1ab_0    conda-forge\r\n",
      "unicodedata2              14.0.0                   pypi_0    pypi\r\n",
      "urllib3                   1.26.11            pyhd8ed1ab_0    conda-forge\r\n",
      "virtualenv                20.16.4                  pypi_0    pypi\r\n",
      "watermark                 2.3.1              pyhd8ed1ab_1    conda-forge\r\n",
      "wcwidth                   0.2.5              pyh9f0ad1d_2    conda-forge\r\n",
      "webencodings              0.5.1                      py_1    conda-forge\r\n",
      "websocket-client          1.4.0              pyhd8ed1ab_0    conda-forge\r\n",
      "werkzeug                  2.2.2                    pypi_0    pypi\r\n",
      "wheel                     0.37.1             pyhd8ed1ab_0    conda-forge\r\n",
      "widgetsnbextension        3.6.1              pyha770c72_0    conda-forge\r\n",
      "xarray                    0.20.2             pyhd8ed1ab_0    conda-forge\r\n",
      "xorg-libxau               1.0.9                h35c211d_0    conda-forge\r\n",
      "xorg-libxdmcp             1.1.3                h35c211d_0    conda-forge\r\n",
      "xz                        5.2.6                h775f41a_0    conda-forge\r\n",
      "yaml                      0.2.5                h0d85af4_2    conda-forge\r\n",
      "yarl                      1.7.2                    pypi_0    pypi\r\n",
      "zeep                      4.1.0              pyh6c4a22f_0    conda-forge\r\n",
      "zeromq                    4.3.4                he49afe7_1    conda-forge\r\n",
      "zfp                       1.0.0                hb9aa9fd_1    conda-forge\r\n",
      "zipp                      3.8.1              pyhd8ed1ab_0    conda-forge\r\n",
      "zlib                      1.2.12               hfe4f2af_2    conda-forge\r\n",
      "zlib-ng                   2.0.6                hac89ed1_0    conda-forge\r\n",
      "zstd                      1.5.2                hfa58983_4    conda-forge\r\n"
     ]
    }
   ],
   "source": [
    "!conda list"
   ]
  },
  {
   "cell_type": "code",
   "execution_count": 6,
   "metadata": {
    "jupyter": {
     "outputs_hidden": false
    }
   },
   "outputs": [
    {
     "name": "stdout",
     "output_type": "stream",
     "text": [
      "pyspedas version: 1.2.8\n"
     ]
    }
   ],
   "source": [
    "version()"
   ]
  },
  {
   "cell_type": "markdown",
   "metadata": {},
   "source": [
    "Delete any existing pytplot variables.\n",
    "\n"
   ]
  },
  {
   "cell_type": "code",
   "execution_count": 7,
   "metadata": {
    "jupyter": {
     "outputs_hidden": false
    }
   },
   "outputs": [],
   "source": [
    "del_data()"
   ]
  },
  {
   "cell_type": "markdown",
   "metadata": {},
   "source": [
    "Define a time range. Here, we pick a time range that spans one day.\n",
    "\n"
   ]
  },
  {
   "cell_type": "code",
   "execution_count": 8,
   "metadata": {
    "jupyter": {
     "outputs_hidden": false
    }
   },
   "outputs": [],
   "source": [
    "time_range = ['2015-10-16', '2015-10-17']"
   ]
  },
  {
   "cell_type": "markdown",
   "metadata": {},
   "source": [
    "You can load data into tplot variables by calling `pyspedas.mission.instrument()`. \n",
    "E.g., to load and plot our one day of THEMIS FGM data for probe 'd':\n",
    "\n",
    "(This following function downloads all the necessary files, loads data, \n",
    "and time-clips data to the specified time range.)\n",
    "\n"
   ]
  },
  {
   "cell_type": "code",
   "execution_count": 9,
   "metadata": {
    "jupyter": {
     "outputs_hidden": false
    }
   },
   "outputs": [
    {
     "name": "stderr",
     "output_type": "stream",
     "text": [
      "14-Sep-22 18:01:53: Downloading remote index: http://themis.ssl.berkeley.edu/data/themis/thd/l2/fgm/2015/\n",
      "14-Sep-22 18:01:53: Downloading http://themis.ssl.berkeley.edu/data/themis/thd/l2/fgm/2015/thd_l2_fgm_20151016_v01.cdf to themis_data/thd/l2/fgm/2015/thd_l2_fgm_20151016_v01.cdf\n",
      "14-Sep-22 18:02:00: Download complete: themis_data/thd/l2/fgm/2015/thd_l2_fgm_20151016_v01.cdf\n"
     ]
    }
   ],
   "source": [
    "thm_fgm = pyspedas.themis.fgm(trange=time_range, probe='d')"
   ]
  },
  {
   "cell_type": "markdown",
   "metadata": {},
   "source": [
    "Mission-specific information and examples can be found in the READMEs of each \n",
    "mission directory in the pySPEDAS GitHub repo. E.g., THEMIS: \n",
    "https://github.com/spedas/pyspedas/tree/master/pyspedas/themis\n",
    "\n",
    "Get data from pytplot object into python variables. \n",
    "This is useful when we want to work on the data using standard python libraries.\n",
    "\n"
   ]
  },
  {
   "cell_type": "code",
   "execution_count": 10,
   "metadata": {
    "jupyter": {
     "outputs_hidden": false
    }
   },
   "outputs": [],
   "source": [
    "all_data = get_data(\"thd_fgs_gse\")\n",
    "time = all_data[0]\n",
    "data = all_data[1]"
   ]
  },
  {
   "cell_type": "markdown",
   "metadata": {},
   "source": [
    "After working with the data, we can store a new pytplot variable. \n",
    "We can store any data in the pytplot object. \n",
    "\n"
   ]
  },
  {
   "cell_type": "code",
   "execution_count": 11,
   "metadata": {
    "jupyter": {
     "outputs_hidden": false
    }
   },
   "outputs": [
    {
     "data": {
      "text/plain": [
       "True"
      ]
     },
     "execution_count": 11,
     "metadata": {},
     "output_type": "execute_result"
    }
   ],
   "source": [
    "store_data(\"new_thd_fgs_gse\", data={'x': time, 'y': data})"
   ]
  },
  {
   "cell_type": "markdown",
   "metadata": {},
   "source": [
    "We plot the data using the pyqtgraph library (the default). \n",
    "Another option is to plot using the bokeh library.\n",
    "\n"
   ]
  },
  {
   "cell_type": "code",
   "execution_count": 12,
   "metadata": {
    "jupyter": {
     "outputs_hidden": false
    }
   },
   "outputs": [],
   "source": [
    "pytplot.options('thd_fgs_gse', 'color', 'red')\n",
    "pytplot.options('thd_fgs_gsm', 'color', 'blue')\n",
    "tplot(['thd_fgs_gse', 'thd_fgs_gsm'])"
   ]
  },
  {
   "cell_type": "markdown",
   "metadata": {},
   "source": [
    "## Load and plot MMS data\n",
    "\n"
   ]
  },
  {
   "cell_type": "markdown",
   "metadata": {},
   "source": [
    "Delete any existing pytplot variables, and define a time range.  \n",
    "\n"
   ]
  },
  {
   "cell_type": "code",
   "execution_count": 13,
   "metadata": {
    "jupyter": {
     "outputs_hidden": false
    }
   },
   "outputs": [],
   "source": [
    "del_data()\n",
    "time_range = ['2015-10-16/13:05:30', '2015-10-16/13:07:30']"
   ]
  },
  {
   "cell_type": "markdown",
   "metadata": {},
   "source": [
    "Load and plot two minutes of MMS burst mode FGM data:\n",
    "\n",
    "First we make an `mms_auth_info` pickle file with blank credentials \n",
    "in the home directory—this skips a prompt that would ask for an\n",
    "SDC username (a prompt that you could just submit blank).\n",
    "\n"
   ]
  },
  {
   "cell_type": "code",
   "execution_count": 14,
   "metadata": {
    "jupyter": {
     "outputs_hidden": false
    }
   },
   "outputs": [
    {
     "name": "stderr",
     "output_type": "stream",
     "text": [
      "14-Sep-22 18:02:26: Downloading mms1_fgm_brst_l2_20151016130524_v4.18.1.cdf to pydata/mms1/fgm/brst/l2/2015/10/16\n",
      "14-Sep-22 18:02:27: <frozen importlib._bootstrap>:228: RuntimeWarning: numpy.ndarray size changed, may indicate binary incompatibility. Expected 80 from C header, got 88 from PyObject\n",
      "\n"
     ]
    },
    {
     "name": "stdout",
     "output_type": "stream",
     "text": [
      "The lengths of x and y do not match!\n",
      "mms1_fgm_rdeltahalf_brst_l2 is currently not in pytplot.\n",
      "mms1_fgm_rdeltahalf_brst_l2 is currently not in pytplot.\n",
      "mms1_fgm_rdeltahalf_brst_l2 is currently not in pytplot.\n",
      "That name is currently not in pytplot\n",
      "That name is currently not in pytplot\n",
      "Loaded variables:\n",
      "Epoch\n",
      "mms1_fgm_b_gse_brst_l2\n",
      "mms1_fgm_b_gsm_brst_l2\n",
      "mms1_fgm_b_dmpa_brst_l2\n",
      "mms1_fgm_b_bcs_brst_l2\n",
      "mms1_fgm_flag_brst_l2\n",
      "Epoch_state\n",
      "mms1_fgm_hirange_brst_l2\n",
      "mms1_fgm_bdeltahalf_brst_l2\n",
      "mms1_fgm_stemp_brst_l2\n",
      "mms1_fgm_etemp_brst_l2\n",
      "mms1_fgm_mode_brst_l2\n",
      "mms1_fgm_rdeltahalf_brst_l2\n",
      "mms1_fgm_b_dmpa_brst_l2_bvec\n",
      "mms1_fgm_b_dmpa_brst_l2_btot\n",
      "mms1_fgm_b_gse_brst_l2_bvec\n",
      "mms1_fgm_b_gse_brst_l2_btot\n",
      "mms1_fgm_b_gsm_brst_l2_bvec\n",
      "mms1_fgm_b_gsm_brst_l2_btot\n",
      "mms1_fgm_b_bcs_brst_l2_bvec\n",
      "mms1_fgm_b_bcs_brst_l2_btot\n"
     ]
    }
   ],
   "source": [
    "with open(os.sep.join([os.path.expanduser('~'), 'mms_auth_info.pkl']), 'wb') as auth_file:\n",
    "    pickle.dump({'user': '', 'passwd': ''}, auth_file)\n",
    "\n",
    "mms_fgm = pyspedas.mms.fgm(trange=['2015-10-16/13:05:30', '2015-10-16/13:07:30'], data_rate='brst')"
   ]
  },
  {
   "cell_type": "markdown",
   "metadata": {},
   "source": [
    "The names of the loaded tplot variables are printed. You can print the names of \n",
    "all currently-loaded tplot variables at any time using `pyspedas.tnames()`:\n",
    "\n"
   ]
  },
  {
   "cell_type": "code",
   "execution_count": 15,
   "metadata": {
    "jupyter": {
     "outputs_hidden": false
    }
   },
   "outputs": [
    {
     "data": {
      "text/plain": [
       "['Epoch',\n",
       " 'mms1_fgm_b_gse_brst_l2',\n",
       " 'mms1_fgm_b_gsm_brst_l2',\n",
       " 'mms1_fgm_b_dmpa_brst_l2',\n",
       " 'mms1_fgm_b_bcs_brst_l2',\n",
       " 'mms1_fgm_flag_brst_l2',\n",
       " 'Epoch_state',\n",
       " 'mms1_fgm_hirange_brst_l2',\n",
       " 'mms1_fgm_bdeltahalf_brst_l2',\n",
       " 'mms1_fgm_stemp_brst_l2',\n",
       " 'mms1_fgm_etemp_brst_l2',\n",
       " 'mms1_fgm_mode_brst_l2',\n",
       " 'mms1_fgm_b_dmpa_brst_l2_bvec',\n",
       " 'mms1_fgm_b_dmpa_brst_l2_btot',\n",
       " 'mms1_fgm_b_gse_brst_l2_bvec',\n",
       " 'mms1_fgm_b_gse_brst_l2_btot',\n",
       " 'mms1_fgm_b_gsm_brst_l2_bvec',\n",
       " 'mms1_fgm_b_gsm_brst_l2_btot',\n",
       " 'mms1_fgm_b_bcs_brst_l2_bvec',\n",
       " 'mms1_fgm_b_bcs_brst_l2_btot']"
      ]
     },
     "execution_count": 15,
     "metadata": {},
     "output_type": "execute_result"
    }
   ],
   "source": [
    "pyspedas.tnames()"
   ]
  },
  {
   "cell_type": "markdown",
   "metadata": {},
   "source": [
    "pySPEDAS has a number of helpful analysis routines under `pyspedas.analysis`. \n",
    "E.g., if we want to clean spikes from the data:\n",
    "\n"
   ]
  },
  {
   "cell_type": "code",
   "execution_count": 16,
   "metadata": {
    "jupyter": {
     "outputs_hidden": false
    }
   },
   "outputs": [
    {
     "name": "stdout",
     "output_type": "stream",
     "text": [
      "mms1_fgm_b_gse_brst_l2 copied to mms1_fgm_b_gse_brst_l2-despike\n",
      "mms1_fgm_b_gse_brst_l2-despike copied to mms1_fgm_b_gse_brst_l2-despike_tmp_data\n",
      "mms1_fgm_b_gse_brst_l2-despike_tmp_data copied to mms1_fgm_b_gse_brst_l2-despike_tmp_data-s\n",
      "tsmooth was applied to: mms1_fgm_b_gse_brst_l2-despike_tmp_data-s\n",
      "clean_spikes was applied to: mms1_fgm_b_gse_brst_l2-despike\n",
      "mms1_fgm_b_gsm_brst_l2 copied to mms1_fgm_b_gsm_brst_l2-despike\n",
      "mms1_fgm_b_gsm_brst_l2-despike copied to mms1_fgm_b_gsm_brst_l2-despike_tmp_data\n",
      "mms1_fgm_b_gsm_brst_l2-despike_tmp_data copied to mms1_fgm_b_gsm_brst_l2-despike_tmp_data-s\n",
      "tsmooth was applied to: mms1_fgm_b_gsm_brst_l2-despike_tmp_data-s\n",
      "clean_spikes was applied to: mms1_fgm_b_gsm_brst_l2-despike\n"
     ]
    }
   ],
   "source": [
    "clean_spikes(['mms1_fgm_b_gse_brst_l2', 'mms1_fgm_b_gsm_brst_l2'])"
   ]
  },
  {
   "cell_type": "markdown",
   "metadata": {},
   "source": [
    "Plot the (despiked) MMS data. \n",
    "Use the bokeh library — the plots will appear in the web browser.\n",
    "\n",
    "Note how we use pytplot options to set the line colors. See the full list of \n",
    "options at: https://pytplot.readthedocs.io/en/latest/_modules/pytplot/options.html\n",
    "\n"
   ]
  },
  {
   "cell_type": "code",
   "execution_count": 17,
   "metadata": {
    "jupyter": {
     "outputs_hidden": false
    }
   },
   "outputs": [],
   "source": [
    "pytplot.options('mms1_fgm_b_gse_brst_l2-despike', 'color', 'red')\n",
    "pytplot.options('mms1_fgm_b_gsm_brst_l2-despike', 'color', 'blue')\n",
    "tplot(['mms1_fgm_b_gse_brst_l2-despike', 'mms1_fgm_b_gsm_brst_l2-despike'], bokeh=True)"
   ]
  },
  {
   "cell_type": "markdown",
   "metadata": {},
   "source": [
    "Note: The HTML web page for this example may be missing the plots but this is a \n",
    "limitation of the platform for this particular gallery — if you run the \n",
    "python code locally, the plots will appear. \n",
    "\n"
   ]
  }
 ],
 "metadata": {
  "kernelspec": {
   "display_name": "Python 3 (ipykernel)",
   "language": "python",
   "name": "python3"
  },
  "language_info": {
   "codemirror_mode": {
    "name": "ipython",
    "version": 3
   },
   "file_extension": ".py",
   "mimetype": "text/x-python",
   "name": "python",
   "nbconvert_exporter": "python",
   "pygments_lexer": "ipython3",
   "version": "3.9.6"
  }
 },
 "nbformat": 4,
 "nbformat_minor": 4
}
