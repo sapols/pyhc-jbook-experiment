{
 "cells": [
  {
   "cell_type": "code",
   "execution_count": null,
   "metadata": {
    "jupyter": {
     "outputs_hidden": false
    }
   },
   "outputs": [],
   "source": [
    "%matplotlib inline"
   ]
  },
  {
   "cell_type": "markdown",
   "metadata": {},
   "source": [
    "\n",
    "# pySPEDAS Demo\n",
    "\n",
    "Written by Nick Hatzigeorgiu and Shawn Polson. \n",
    "\n",
    "The purpose of this demo is to demonstrate some of the capabilities of the pySPEDAS package.\n"
   ]
  },
  {
   "cell_type": "markdown",
   "metadata": {},
   "source": [
    "The pySPEDAS package contains functions for downloading data from NASA missions \n",
    "and tools for data analysis and data plotting. It works together with the \n",
    "pytplot and the cdflib packages.\n",
    "\n",
    "pySPEDAS is a python implementation of the SPEDAS software which is written \n",
    "in the IDL programming language. For more information on SPEDAS, \n",
    "see: http://spedas.org/wiki/\n",
    "\n"
   ]
  },
  {
   "cell_type": "code",
   "execution_count": null,
   "metadata": {
    "jupyter": {
     "outputs_hidden": false
    }
   },
   "outputs": [],
   "source": [
    "import pyspedas\n",
    "import pytplot\n",
    "from pyspedas import clean_spikes, version\n",
    "from pytplot import del_data, get_data, store_data, tplot_options, tplot_names, tplot\n",
    "import os\n",
    "import pickle"
   ]
  },
  {
   "cell_type": "markdown",
   "metadata": {},
   "source": [
    "## Load and plot THEMIS data\n",
    "\n"
   ]
  },
  {
   "cell_type": "markdown",
   "metadata": {},
   "source": [
    "Note: pySPEDAS uses an environment variable SPEDAS_DATA_DIR to determine the \n",
    "local path for saving data files. SPEDAS_DATA_DIR acts as a root data directory \n",
    "for all missions, but mission-specific data directories \n",
    "(e.g., MMS_DATA_DIR for MMS, THM_DATA_DIR for THEMIS) can also be set, \n",
    "and these will override SPEDAS_DATA_DIR.\n",
    "\n",
    "We can find the version of the installed pyspedas package using `version()`.  \n",
    "\n"
   ]
  },
  {
   "cell_type": "code",
   "execution_count": null,
   "metadata": {},
   "outputs": [],
   "source": [
    "!conda list"
   ]
  },
  {
   "cell_type": "code",
   "execution_count": null,
   "metadata": {
    "jupyter": {
     "outputs_hidden": false
    }
   },
   "outputs": [],
   "source": [
    "version()"
   ]
  },
  {
   "cell_type": "markdown",
   "metadata": {},
   "source": [
    "Delete any existing pytplot variables.\n",
    "\n"
   ]
  },
  {
   "cell_type": "code",
   "execution_count": null,
   "metadata": {
    "jupyter": {
     "outputs_hidden": false
    }
   },
   "outputs": [],
   "source": [
    "del_data()"
   ]
  },
  {
   "cell_type": "markdown",
   "metadata": {},
   "source": [
    "Define a time range. Here, we pick a time range that spans one day.\n",
    "\n"
   ]
  },
  {
   "cell_type": "code",
   "execution_count": null,
   "metadata": {
    "jupyter": {
     "outputs_hidden": false
    }
   },
   "outputs": [],
   "source": [
    "time_range = ['2015-10-16', '2015-10-17']"
   ]
  },
  {
   "cell_type": "markdown",
   "metadata": {},
   "source": [
    "You can load data into tplot variables by calling `pyspedas.mission.instrument()`. \n",
    "E.g., to load and plot our one day of THEMIS FGM data for probe 'd':\n",
    "\n",
    "(This following function downloads all the necessary files, loads data, \n",
    "and time-clips data to the specified time range.)\n",
    "\n"
   ]
  },
  {
   "cell_type": "code",
   "execution_count": null,
   "metadata": {
    "jupyter": {
     "outputs_hidden": false
    }
   },
   "outputs": [],
   "source": [
    "thm_fgm = pyspedas.themis.fgm(trange=time_range, probe='d')"
   ]
  },
  {
   "cell_type": "markdown",
   "metadata": {},
   "source": [
    "Mission-specific information and examples can be found in the READMEs of each \n",
    "mission directory in the pySPEDAS GitHub repo. E.g., THEMIS: \n",
    "https://github.com/spedas/pyspedas/tree/master/pyspedas/themis\n",
    "\n",
    "Get data from pytplot object into python variables. \n",
    "This is useful when we want to work on the data using standard python libraries.\n",
    "\n"
   ]
  },
  {
   "cell_type": "code",
   "execution_count": null,
   "metadata": {
    "jupyter": {
     "outputs_hidden": false
    }
   },
   "outputs": [],
   "source": [
    "all_data = get_data(\"thd_fgs_gse\")\n",
    "time = all_data[0]\n",
    "data = all_data[1]"
   ]
  },
  {
   "cell_type": "markdown",
   "metadata": {},
   "source": [
    "After working with the data, we can store a new pytplot variable. \n",
    "We can store any data in the pytplot object. \n",
    "\n"
   ]
  },
  {
   "cell_type": "code",
   "execution_count": null,
   "metadata": {
    "jupyter": {
     "outputs_hidden": false
    }
   },
   "outputs": [],
   "source": [
    "store_data(\"new_thd_fgs_gse\", data={'x': time, 'y': data})"
   ]
  },
  {
   "cell_type": "markdown",
   "metadata": {},
   "source": [
    "We plot the data using the pyqtgraph library (the default). \n",
    "Another option is to plot using the bokeh library.\n",
    "\n"
   ]
  },
  {
   "cell_type": "code",
   "execution_count": null,
   "metadata": {
    "jupyter": {
     "outputs_hidden": false
    }
   },
   "outputs": [],
   "source": [
    "pytplot.options('thd_fgs_gse', 'color', 'red')\n",
    "pytplot.options('thd_fgs_gsm', 'color', 'blue')\n",
    "tplot(['thd_fgs_gse', 'thd_fgs_gsm'])"
   ]
  },
  {
   "cell_type": "markdown",
   "metadata": {},
   "source": [
    "## Load and plot MMS data\n",
    "\n"
   ]
  },
  {
   "cell_type": "markdown",
   "metadata": {},
   "source": [
    "Delete any existing pytplot variables, and define a time range.  \n",
    "\n"
   ]
  },
  {
   "cell_type": "code",
   "execution_count": null,
   "metadata": {
    "jupyter": {
     "outputs_hidden": false
    }
   },
   "outputs": [],
   "source": [
    "del_data()\n",
    "time_range = ['2015-10-16/13:05:30', '2015-10-16/13:07:30']"
   ]
  },
  {
   "cell_type": "markdown",
   "metadata": {},
   "source": [
    "Load and plot two minutes of MMS burst mode FGM data:\n",
    "\n",
    "First we make an `mms_auth_info` pickle file with blank credentials \n",
    "in the home directory—this skips a prompt that would ask for an\n",
    "SDC username (a prompt that you could just submit blank).\n",
    "\n"
   ]
  },
  {
   "cell_type": "code",
   "execution_count": null,
   "metadata": {
    "jupyter": {
     "outputs_hidden": false
    }
   },
   "outputs": [],
   "source": [
    "with open(os.sep.join([os.path.expanduser('~'), 'mms_auth_info.pkl']), 'wb') as auth_file:\n",
    "    pickle.dump({'user': '', 'passwd': ''}, auth_file)\n",
    "\n",
    "mms_fgm = pyspedas.mms.fgm(trange=['2015-10-16/13:05:30', '2015-10-16/13:07:30'], data_rate='brst')"
   ]
  },
  {
   "cell_type": "markdown",
   "metadata": {},
   "source": [
    "The names of the loaded tplot variables are printed. You can print the names of \n",
    "all currently-loaded tplot variables at any time using `pyspedas.tnames()`:\n",
    "\n"
   ]
  },
  {
   "cell_type": "code",
   "execution_count": null,
   "metadata": {
    "jupyter": {
     "outputs_hidden": false
    }
   },
   "outputs": [],
   "source": [
    "pyspedas.tnames()"
   ]
  },
  {
   "cell_type": "markdown",
   "metadata": {},
   "source": [
    "pySPEDAS has a number of helpful analysis routines under `pyspedas.analysis`. \n",
    "E.g., if we want to clean spikes from the data:\n",
    "\n"
   ]
  },
  {
   "cell_type": "code",
   "execution_count": null,
   "metadata": {
    "jupyter": {
     "outputs_hidden": false
    }
   },
   "outputs": [],
   "source": [
    "clean_spikes(['mms1_fgm_b_gse_brst_l2', 'mms1_fgm_b_gsm_brst_l2'])"
   ]
  },
  {
   "cell_type": "markdown",
   "metadata": {},
   "source": [
    "Plot the (despiked) MMS data. \n",
    "Use the bokeh library — the plots will appear in the web browser.\n",
    "\n",
    "Note how we use pytplot options to set the line colors. See the full list of \n",
    "options at: https://pytplot.readthedocs.io/en/latest/_modules/pytplot/options.html\n",
    "\n"
   ]
  },
  {
   "cell_type": "code",
   "execution_count": null,
   "metadata": {
    "jupyter": {
     "outputs_hidden": false
    }
   },
   "outputs": [],
   "source": [
    "pytplot.options('mms1_fgm_b_gse_brst_l2-despike', 'color', 'red')\n",
    "pytplot.options('mms1_fgm_b_gsm_brst_l2-despike', 'color', 'blue')\n",
    "tplot(['mms1_fgm_b_gse_brst_l2-despike', 'mms1_fgm_b_gsm_brst_l2-despike'], bokeh=True)"
   ]
  },
  {
   "cell_type": "markdown",
   "metadata": {},
   "source": [
    "Note: The HTML web page for this example may be missing the plots but this is a \n",
    "limitation of the platform for this particular gallery — if you run the \n",
    "python code locally, the plots will appear. \n",
    "\n"
   ]
  }
 ],
 "metadata": {
  "kernelspec": {
   "display_name": "Python 3 (ipykernel)",
   "language": "python",
   "name": "python3"
  },
  "language_info": {
   "codemirror_mode": {
    "name": "ipython",
    "version": 3
   },
   "file_extension": ".py",
   "mimetype": "text/x-python",
   "name": "python",
   "nbconvert_exporter": "python",
   "pygments_lexer": "ipython3"
  }
 },
 "nbformat": 4,
 "nbformat_minor": 4
}
