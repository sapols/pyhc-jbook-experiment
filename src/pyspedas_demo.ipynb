{
 "cells": [
  {
   "cell_type": "markdown",
   "id": "c9944ab9-5352-4330-8c12-f1eb1ee69044",
   "metadata": {},
   "source": [
    "# pyspedas Demo"
   ]
  },
  {
   "cell_type": "markdown",
   "id": "cde7315e",
   "metadata": {
    "cell_marker": "\"\"\""
   },
   "source": [
    "Written by Nick Hatzigeorgiu. \n",
    "\n",
    "The purpose of this demo is to demonstrate some of the capabilities of the pyspedas package."
   ]
  },
  {
   "cell_type": "markdown",
   "id": "0760d39c",
   "metadata": {
    "cell_marker": "####################################################################################",
    "lines_to_next_cell": 0
   },
   "source": [
    "The pyspedas package contains functions for downloading data from NASA missions \n",
    "and tools for data analysis and data plotting. It works together with \n",
    "the pytplot and the cdflib packages.\n",
    "\n",
    "Pyspedas is a python implementation of the SPEDAS software which is written \n",
    "in the IDL programming language. For more information on SPEDAS, \n",
    "see: http://spedas.org/wiki/"
   ]
  },
  {
   "cell_type": "code",
   "execution_count": null,
   "id": "b83df2d9",
   "metadata": {},
   "outputs": [],
   "source": [
    "from pyspedas import load_data, gmag_list, subtract_average, version\n",
    "from pytplot import del_data, get_data, store_data, ylim, tplot, tplot_options, tplot_names"
   ]
  },
  {
   "cell_type": "markdown",
   "id": "1fc38760",
   "metadata": {
    "cell_marker": "####################################################################################"
   },
   "source": [
    "Load and plot THEMIS data\n",
    "###################################################################################"
   ]
  },
  {
   "cell_type": "markdown",
   "id": "9cfc72e8",
   "metadata": {
    "cell_marker": "####################################################################################",
    "lines_to_next_cell": 0
   },
   "source": [
    "Pyspedas uses a preferences file (spd_prefs_txt.py) which contains the variables\n",
    "that determine the local path for saving cdf files. The user can change this\n",
    "path, if he wants to. We can find the location of the pyspedas preferences file\n",
    "and the version of the installed pyspedas package, using the function version(). "
   ]
  },
  {
   "cell_type": "code",
   "execution_count": null,
   "id": "5b02f637",
   "metadata": {},
   "outputs": [],
   "source": [
    "version()"
   ]
  },
  {
   "cell_type": "markdown",
   "id": "616909ab",
   "metadata": {
    "cell_marker": "####################################################################################",
    "lines_to_next_cell": 0
   },
   "source": [
    "Delete any existing pytplot variables"
   ]
  },
  {
   "cell_type": "code",
   "execution_count": null,
   "id": "f69ca722",
   "metadata": {},
   "outputs": [],
   "source": [
    "del_data()"
   ]
  },
  {
   "cell_type": "markdown",
   "id": "aa117ba6",
   "metadata": {
    "cell_marker": "####################################################################################",
    "lines_to_next_cell": 0
   },
   "source": [
    "Define a time range. Here, we pick a time range that spans one and a half day."
   ]
  },
  {
   "cell_type": "code",
   "execution_count": null,
   "id": "e0b4cd4c",
   "metadata": {},
   "outputs": [],
   "source": [
    "time_range = ['2015-12-31 00:00:00', '2016-01-01 12:00:00']"
   ]
  },
  {
   "cell_type": "markdown",
   "id": "d45d074d",
   "metadata": {
    "cell_marker": "####################################################################################",
    "lines_to_next_cell": 0
   },
   "source": [
    "Download THEMIS state data and store it into the pytplot object.\n",
    "This following function downloads all the necessary files, loads data, \n",
    "and time-clips data to the specified time range. "
   ]
  },
  {
   "cell_type": "code",
   "execution_count": null,
   "id": "ba0a9809",
   "metadata": {},
   "outputs": [],
   "source": [
    "load_data('themis', time_range, ['tha'], 'state', 'l1')"
   ]
  },
  {
   "cell_type": "markdown",
   "id": "762a4229",
   "metadata": {
    "cell_marker": "####################################################################################",
    "lines_to_next_cell": 0
   },
   "source": [
    "Get data from pytplot object into python variables. \n",
    "This is useful when we want to work on the data using standard python libraries."
   ]
  },
  {
   "cell_type": "code",
   "execution_count": null,
   "id": "6531e66a",
   "metadata": {},
   "outputs": [],
   "source": [
    "alldata = get_data(\"tha_vel\")\n",
    "time = alldata[0]\n",
    "data = alldata[1]"
   ]
  },
  {
   "cell_type": "markdown",
   "id": "d447027f",
   "metadata": {
    "cell_marker": "####################################################################################",
    "lines_to_next_cell": 0
   },
   "source": [
    "After working with the data, we can store a new pytplot variable. \n",
    "We can store any data in the pytplot object. "
   ]
  },
  {
   "cell_type": "code",
   "execution_count": null,
   "id": "3c42008a",
   "metadata": {},
   "outputs": [],
   "source": [
    "store_data(\"tha_new_vel\", data={'x': time, 'y': data})"
   ]
  },
  {
   "cell_type": "markdown",
   "id": "5f0813e7",
   "metadata": {
    "cell_marker": "####################################################################################",
    "lines_to_next_cell": 0
   },
   "source": [
    "Preparing for the plots, we define the y-axis limits."
   ]
  },
  {
   "cell_type": "code",
   "execution_count": null,
   "id": "9f62bbfc",
   "metadata": {},
   "outputs": [],
   "source": [
    "ylim('tha_pos', -23000.0, 81000.0)\n",
    "ylim('tha_new_vel', -8.0, 12.0)"
   ]
  },
  {
   "cell_type": "markdown",
   "id": "079a77d9",
   "metadata": {
    "cell_marker": "####################################################################################",
    "lines_to_next_cell": 0
   },
   "source": [
    "We plot the position and the velocity using the pyqtgraph library (the default). \n",
    "Another option is to plot using the bokeh library."
   ]
  },
  {
   "cell_type": "code",
   "execution_count": null,
   "id": "54dcf5da",
   "metadata": {},
   "outputs": [],
   "source": [
    "tplot([\"tha_pos\", \"tha_new_vel\"])\n"
   ]
  },
  {
   "cell_type": "markdown",
   "id": "a5204e6e",
   "metadata": {
    "cell_marker": "####################################################################################"
   },
   "source": [
    "Load and plot GMAG data\n",
    "###################################################################################"
   ]
  },
  {
   "cell_type": "markdown",
   "id": "91c0761c",
   "metadata": {
    "cell_marker": "####################################################################################",
    "lines_to_next_cell": 0
   },
   "source": [
    "Delete any existing pytplot variables, and define a time range.  "
   ]
  },
  {
   "cell_type": "code",
   "execution_count": null,
   "id": "67d1fa00",
   "metadata": {},
   "outputs": [],
   "source": [
    "del_data()\n",
    "time_range = ['2015-12-31 00:00:00', '2015-12-31 23:59:59']"
   ]
  },
  {
   "cell_type": "markdown",
   "id": "eeb8ee03",
   "metadata": {
    "cell_marker": "####################################################################################",
    "lines_to_next_cell": 0
   },
   "source": [
    "GMAG stations are organized in groups. For a list of all available GMAG groups \n",
    "and all GMAG stations, see: http://themis.ssl.berkeley.edu/gmag/gmag_list.php\n",
    "\n",
    "Get a list of the GMAG stations that belong to the EPO group."
   ]
  },
  {
   "cell_type": "code",
   "execution_count": null,
   "id": "e35daed5",
   "metadata": {},
   "outputs": [],
   "source": [
    "sites = gmag_list(group='epo')"
   ]
  },
  {
   "cell_type": "markdown",
   "id": "d1b517b6",
   "metadata": {
    "cell_marker": "####################################################################################",
    "lines_to_next_cell": 0
   },
   "source": [
    "Download cdf files for all EPO GMAG stations and load data into pytplot variables.\n",
    "\n",
    "Some GMAG stations may not have any data files for the specified time interval. \n",
    "In that case, we will get an error message that the remote file does not exist\n",
    "for that GMAG station.  "
   ]
  },
  {
   "cell_type": "code",
   "execution_count": null,
   "id": "5cae8bc6",
   "metadata": {},
   "outputs": [],
   "source": [
    "load_data('gmag', time_range, sites, '', '')"
   ]
  },
  {
   "cell_type": "markdown",
   "id": "05306186",
   "metadata": {
    "cell_marker": "####################################################################################",
    "lines_to_next_cell": 0
   },
   "source": [
    "Print the names of the loaded GMAG sites. "
   ]
  },
  {
   "cell_type": "code",
   "execution_count": null,
   "id": "820d01c2",
   "metadata": {},
   "outputs": [],
   "source": [
    "sites_loaded = tplot_names()"
   ]
  },
  {
   "cell_type": "markdown",
   "id": "ce4d3487",
   "metadata": {
    "cell_marker": "####################################################################################",
    "lines_to_next_cell": 0
   },
   "source": [
    "Subtract the average values for these sites."
   ]
  },
  {
   "cell_type": "code",
   "execution_count": null,
   "id": "24651773",
   "metadata": {},
   "outputs": [],
   "source": [
    "subtract_average(sites_loaded, '')"
   ]
  },
  {
   "cell_type": "markdown",
   "id": "6d685e1d",
   "metadata": {
    "cell_marker": "####################################################################################",
    "lines_to_next_cell": 0
   },
   "source": [
    "Download AE index data."
   ]
  },
  {
   "cell_type": "code",
   "execution_count": null,
   "id": "ea22f09c",
   "metadata": {},
   "outputs": [],
   "source": [
    "load_data('gmag', time_range, ['idx'], '', '')"
   ]
  },
  {
   "cell_type": "markdown",
   "id": "75559396",
   "metadata": {
    "cell_marker": "####################################################################################",
    "lines_to_next_cell": 0
   },
   "source": [
    "Get a list of all the loaded GMAG sites plus the AE index data. "
   ]
  },
  {
   "cell_type": "code",
   "execution_count": null,
   "id": "1c124cf2",
   "metadata": {},
   "outputs": [],
   "source": [
    "sites_loaded = tplot_names()"
   ]
  },
  {
   "cell_type": "markdown",
   "id": "89d3e4ca",
   "metadata": {
    "cell_marker": "####################################################################################",
    "lines_to_next_cell": 0
   },
   "source": [
    "Plot GMAG and AE index data.\n",
    "Use the bokeh library - the plots will appear in the web browser."
   ]
  },
  {
   "cell_type": "code",
   "execution_count": null,
   "id": "8d6c06f2",
   "metadata": {},
   "outputs": [],
   "source": [
    "tplot_options('title', 'EPO GMAG 2015-12-31')\n",
    "tplot(sites_loaded, bokeh=True)"
   ]
  },
  {
   "cell_type": "markdown",
   "id": "0d42971a",
   "metadata": {
    "cell_marker": "####################################################################################"
   },
   "source": [
    "Note: The HTML web page for this example may be missing the plots but this is a \n",
    "limitation of the platform for this particular gallery - \n",
    "if you run the python code locally, the plots will appear. "
   ]
  }
 ],
 "metadata": {
  "jupytext": {
   "cell_metadata_filter": "-all",
   "encoding": "# coding: utf-8",
   "main_language": "python",
   "notebook_metadata_filter": "-all"
  },
  "kernelspec": {
   "display_name": "Python 3 (ipykernel)",
   "language": "python",
   "name": "python3"
  },
  "language_info": {
   "codemirror_mode": {
    "name": "ipython",
    "version": 3
   },
   "file_extension": ".py",
   "mimetype": "text/x-python",
   "name": "python",
   "nbconvert_exporter": "python",
   "pygments_lexer": "ipython3",
   "version": "3.10.2"
  }
 },
 "nbformat": 4,
 "nbformat_minor": 5
}
