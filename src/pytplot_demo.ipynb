{
 "cells": [
  {
   "cell_type": "markdown",
   "id": "89fd2fa5",
   "metadata": {
    "cell_marker": "\"\"\"",
    "lines_to_next_cell": 0
   },
   "source": [
    "# PyTplot Demo\n",
    "\n",
    "Written by Julie Barnum and Elysia Lucas. \n",
    "The purpose of this demo is to show off some of the capabilities of PyTplot."
   ]
  },
  {
   "cell_type": "code",
   "execution_count": null,
   "id": "fd437e22",
   "metadata": {},
   "outputs": [],
   "source": [
    "import urllib\n",
    "\n",
    "import pytplot"
   ]
  },
  {
   "cell_type": "markdown",
   "id": "c66aad2c",
   "metadata": {
    "cell_marker": "##############################################################################",
    "lines_to_next_cell": 0
   },
   "source": [
    "Loading data into memory\n",
    "------------------------\n",
    "The pytplot package comes with a sample IDL tplot save file which will be used for the following tutorial,\n",
    "located in PyTplot Github (https://github.com/MAVENSDC/PyTplot) under pytplot/pytplot/sampledata.\n",
    "This file was generated in IDL, and therefore can be loaded into tplot if you wish to compare the\n",
    "IDL and python versions.\n",
    "Download the test file from the PyTplot Github acct"
   ]
  },
  {
   "cell_type": "code",
   "execution_count": null,
   "id": "9b8863aa",
   "metadata": {},
   "outputs": [],
   "source": [
    "url = 'https://github.com/MAVENSDC/PyTplot/raw/master/docs/test_data.tplot'\n",
    "\n",
    "urllib.request.urlretrieve(url, \"./test_data.tplot\")"
   ]
  },
  {
   "cell_type": "markdown",
   "id": "92f24ee3",
   "metadata": {
    "cell_marker": "##############################################################################",
    "lines_to_next_cell": 0
   },
   "source": [
    "To load this data into pytplot, type in the following command:"
   ]
  },
  {
   "cell_type": "code",
   "execution_count": null,
   "id": "b408b87b",
   "metadata": {},
   "outputs": [],
   "source": [
    "pytplot.tplot_restore(r'test_data.tplot')\n",
    "print(pytplot.tplot_names())"
   ]
  },
  {
   "cell_type": "markdown",
   "id": "86858d95",
   "metadata": {
    "cell_marker": "##############################################################################"
   },
   "source": [
    "Storing data\n",
    "------------\n",
    "pytplot works by interacting with global variables (called tplot variables) that contain information necessary for\n",
    "creating one panel (or even one portion of a panel) of a plot, that can be accessed from the main level or\n",
    "within any Python routine. Before anything can be plotted, tplot variables must be loaded into memory.\n",
    "Single line Plot: to store data to plot a single line, the 'y' data will be a single list of data\n",
    "that will correspond to the points that will make up the line.\n",
    "Multi-line Plot: to store data to plot a multi-line plot, the 'y' data will be a list of lists.\n",
    "Each column of the \"matrix\" created is the data for one line. So if you had a list with four lists in it\n",
    "and three elements in each list [[1,2,3],[4,5,6],[7,8,9],[10,11,12]] three lines with four data points each\n",
    "will be plotted.\n",
    "Spectrogram Plot: to store data to plot for a spectrogram, 'v' data will be a list of bins for the data,\n",
    "and the 'y' data will be a matrix of values with dimensions of the length of \"x\" time the length of \"v\"\n",
    "Map Plot: to store data to plot for a latitude/longitude plot, 'x' will contain a list of latitudes\n",
    "and a list of longitudes, for example 'x':[[15,30,45],[30,60,90]], and the 'y' data will be a list of values\n",
    "that correspond to those latitude/longitude points\n",
    "Combining Two Plots: store_data('new_name', ['old_name1', 'old_name2'])\n",
    "to combine multiple existing tplot variables ('old_name1' and 'old_name2') into one new tplot variable\n",
    "('new_name'). 'new_name' will have all data from the existing tplot variables entered in one new tplot variable."
   ]
  },
  {
   "cell_type": "markdown",
   "id": "10a3398c",
   "metadata": {
    "cell_marker": "##############################################################################"
   },
   "source": [
    "Pytplot variables\n",
    "-----------------\n",
    "pytplot.tplot_names() will print the numbers and names of the tplot variables currently in memory.\n",
    "When using any routines that require the name of the tplot variable, the user can use either\n",
    "the name of the variable or the corresponding number."
   ]
  },
  {
   "cell_type": "code",
   "execution_count": null,
   "id": "be0c84e3",
   "metadata": {},
   "outputs": [],
   "source": [
    "pytplot.tplot_names()"
   ]
  },
  {
   "cell_type": "markdown",
   "id": "5d008a29",
   "metadata": {
    "cell_marker": "##############################################################################"
   },
   "source": [
    "Options\n",
    "-------\n",
    "pytplot.options('tplot_var', 'option', 'option_value') can be used to change plotting options\n",
    "corresponding to specific tplot variables. All options currently implemented are described in\n",
    "the pytplot documentation, but here are some examples to get you started."
   ]
  },
  {
   "cell_type": "code",
   "execution_count": null,
   "id": "9d4f332a",
   "metadata": {},
   "outputs": [],
   "source": [
    "# Line Thickness\n",
    "pytplot.options('swia_vel', 'thick', 4)\n",
    "# Y-axis Label\n",
    "pytplot.options('swia_vel', 'ytitle', 'speed (km/s)')\n",
    "# Vertical Plot Bounds\n",
    "pytplot.options('SEP_1_ION', 'yrange', [5, 5000])\n",
    "# Panel Size\n",
    "pytplot.options(['mag', 'swia_den', 'swia_vel'], 'panel_size', 0.5)"
   ]
  },
  {
   "cell_type": "markdown",
   "id": "b9471d2c",
   "metadata": {
    "cell_marker": "##############################################################################"
   },
   "source": [
    "Tplot Options\n",
    "-------------\n",
    "pytplot.tplot_options('option', 'option_value') can be used to change plotting options for the tplot routine.\n",
    "These control options affect all panels in a plot."
   ]
  },
  {
   "cell_type": "code",
   "execution_count": null,
   "id": "f6843248",
   "metadata": {},
   "outputs": [],
   "source": [
    "# Title\n",
    "pytplot.tplot_options('title', 'All Plots')\n",
    "# Window Size\n",
    "pytplot.tplot_options('wsize', [800, 800])\n",
    "\n",
    "# Adding a region of interest (ROI)\n",
    "# pytplot will add a ROI (indicated by two vertical red lines, with grey shading in between)\n",
    "# to all plot via specifying the 'roi' option\n",
    "pytplot.tplot_options('roi', ['2016-06-20 11:12:24', '2016-06-20 14:12:00'])\n",
    "\n",
    "# Another option available in tplot_options is to specify the number of seconds with consecutive nan\n",
    "# values allowed before no interpolation should occur\n",
    "pytplot.tplot_options('data_gap', 80)"
   ]
  },
  {
   "cell_type": "markdown",
   "id": "cc400312",
   "metadata": {
    "cell_marker": "##############################################################################",
    "lines_to_next_cell": 0
   },
   "source": [
    "Displaying data using tplot\n",
    "---------------------------\n",
    "Single Panel Plot"
   ]
  },
  {
   "cell_type": "code",
   "execution_count": null,
   "id": "fd1f8759",
   "metadata": {},
   "outputs": [],
   "source": [
    "pytplot.tplot('swia_vel')  # or, pytplot.tplot(6)\n",
    "\n",
    "# Multiple Panel Plot\n",
    "pytplot.tplot(['swia_counts', 'swia_vel', 'mag'])  # or, pytplot.tplot([4,6,7])"
   ]
  },
  {
   "cell_type": "markdown",
   "id": "757dbfa3",
   "metadata": {
    "cell_marker": "##############################################################################"
   },
   "source": [
    "Interacting with Data Plots\n",
    "---------------------------\n",
    "There are several ways to interact with the data plots. There is command line interaction\n",
    "that follows the same pattern of functions IDL utilizes. Pytplot additionally has interactivity\n",
    "built into the viewing window in the form of \"tools\"."
   ]
  },
  {
   "cell_type": "code",
   "execution_count": null,
   "id": "1a0ab5e8",
   "metadata": {},
   "outputs": [],
   "source": [
    "# Moving forward and backward in time\n",
    "# The Pan tool allows the user to click and drag the mouse on the plot to move along the x- or y-axis.\n",
    "\n",
    "# Zooming in and out\n",
    "# The Box Zoom tool allows the user to click and drag the mouse on the plot to specify\n",
    "# their desired x-axis range.\n",
    "\n",
    "# Show data points\n",
    "# The Hover Tool displays the data of a given point when the user hovers their mouse over the line.\n",
    "\n",
    "# Add crosshairs to plot window\n",
    "# The Crosshairs Tool displays a set of crosshairs that follow the location of the mouse on the plot.\n",
    "# Crosshairs can be modified to be not displayed...\n",
    "\n",
    "pytplot.tplot_options('crosshair', False)\n",
    "pytplot.tplot('swia_counts')\n",
    "\n",
    "# and crosshair names can be modified.\n",
    "pytplot.tplot_options('crosshair', True)  # Just re-adding the crosshairs\n",
    "pytplot.options('swia_counts', 'crosshair_x', 'XXX')\n",
    "pytplot.options('swia_counts', 'crosshair_y', 'YYY')\n",
    "pytplot.options('swia_counts', 'crosshair_z', 'ZZZ')\n",
    "pytplot.tplot('swia_counts')\n",
    "\n",
    "# Adding timebars\n",
    "# To place a vertical line at a specific time on all panels:\n",
    "# pytplot.timebar('2016-06-20 01:15:32', thick=3, color='green') will add a vertical black line to all plots\n",
    "# at the time entered. Further settings related to this routine are described in the pytplot documentation.\n",
    "\n",
    "pytplot.timebar('2016-06-20 01:15:32', thick=3, color='green')"
   ]
  },
  {
   "cell_type": "markdown",
   "id": "ffd6edff",
   "metadata": {
    "cell_marker": "##############################################################################"
   },
   "source": [
    "Interacting with spectrogram plots\n",
    "----------------------------------\n",
    "pytplot also has the ability to interact directly with spectrograms.\n",
    "If you supply the interactive=True keyword to a pytplot.tplot command,\n",
    "a plot will appear next to the spectrogram that reads out \"slices\" of the plot when you hover the mouse over it.\n",
    "Additionally, you can set options in pytplot to include 'static_tavg', 'static', and 't_average',\n",
    "which creates a separate plot with the average over a specified time period,\n",
    "creates a separate plot with a single specified time period,\n",
    "and specifies a time period (in seconds, based on the mouse's current location)\n",
    "over which time should be averaged for the window which pops up when 'interactive=true' is specified, respectively.\n",
    "You can also log axes in both the spectrogram plots ('xlog' and 'zlog' options),\n",
    "and the interactive plots ('xlog_interactive' and 'ylog_interactive' options)."
   ]
  },
  {
   "cell_type": "code",
   "execution_count": null,
   "id": "6ea673e5",
   "metadata": {},
   "outputs": [],
   "source": [
    "pytplot.options('swia_counts', 'ylog', 1)  # setting to 0 would make the y-axis linear\n",
    "pytplot.options('swia_counts', 'zlog', 1)  # setting ot 0 would make the z-axis linear\n",
    "pytplot.options('swia_counts', 'xlog_interactive', True)  # Setting to False would make the x-axis linear\n",
    "pytplot.options('swia_counts', 'ylog_interactive', True)  # Setting to False would make the y-axis linear\n",
    "pytplot.options('swia_counts', 'static_tavg', ['2016-06-20 12:00:00', '2016-06-20 13:00:00'])\n",
    "pytplot.options('swia_counts', 'static', '2016-06-20 01:00:57')\n",
    "pytplot.options('swia_counts', 't_average', 1200)\n",
    "pytplot.tplot('swia_counts')"
   ]
  },
  {
   "cell_type": "markdown",
   "id": "458f95f1",
   "metadata": {
    "cell_marker": "##############################################################################"
   },
   "source": [
    "Saving output\n",
    "-------------\n",
    "pytplot plots have the ability to be saved via 'Save PNG' option from the plot window, or you can specify\n",
    "that you want to save a plot ahead of time via the 'save_png' option\n",
    "(e.g., pytplot.tplot('swia_counts', save_png = '/path/to/png/PNG.png')"
   ]
  },
  {
   "cell_type": "markdown",
   "id": "6f068a4b",
   "metadata": {
    "cell_marker": "##############################################################################",
    "lines_to_next_cell": 2
   },
   "source": [
    "Displaying in bokeh\n",
    "-------------------\n",
    "pytplot allows you to use bokeh for visualizing data (bokeh is a Python library that allows interactive plots\n",
    "to be visualized via a web browser window), via the 'bokeh' option\n",
    "(e.g., pytplot.tplot('swia_counts', bokeh=True)"
   ]
  }
 ],
 "metadata": {
  "jupytext": {
   "cell_metadata_filter": "-all",
   "encoding": "# coding: utf-8",
   "main_language": "python",
   "notebook_metadata_filter": "-all"
  },
  "kernelspec": {
   "display_name": "Python 3 (ipykernel)",
   "language": "python",
   "name": "python3"
  },
  "language_info": {
   "codemirror_mode": {
    "name": "ipython",
    "version": 3
   },
   "file_extension": ".py",
   "mimetype": "text/x-python",
   "name": "python",
   "nbconvert_exporter": "python",
   "pygments_lexer": "ipython3",
   "version": "3.10.2"
  }
 },
 "nbformat": 4,
 "nbformat_minor": 5
}
