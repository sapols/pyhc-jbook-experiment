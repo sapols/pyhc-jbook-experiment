{
 "cells": [
  {
   "cell_type": "code",
   "execution_count": 1,
   "metadata": {
    "jupyter": {
     "outputs_hidden": false
    }
   },
   "outputs": [],
   "source": [
    "%matplotlib inline"
   ]
  },
  {
   "cell_type": "markdown",
   "metadata": {},
   "source": [
    "\n",
    "# Downloading and Compressing a FITS file using SunPy, aiapy, and Astropy\n",
    "\n",
    "Written by Matt Wentzel-Long. The purpose of this demo is to demonstrate:\n",
    "1) SunPy's ability to retrieve a Level 1 AIA data, \n",
    "2) convert this to Level 1.5 AIA data using aiapy, \n",
    "3) deconvolve the FITS file using aiapy, and \n",
    "4) demonstrate the compression ability of Astropy when saving the file.\n"
   ]
  },
  {
   "cell_type": "markdown",
   "metadata": {},
   "source": [
    "First import the packages\n",
    "\n"
   ]
  },
  {
   "cell_type": "code",
   "execution_count": 2,
   "metadata": {
    "jupyter": {
     "outputs_hidden": false
    }
   },
   "outputs": [],
   "source": [
    "import astropy\n",
    "import astropy.units as u\n",
    "from astropy.io.fits import CompImageHDU\n",
    "\n",
    "from sunpy.net import Fido, attrs as a\n",
    "import sunpy.map\n",
    "\n",
    "import aiapy.psf as psf_\n",
    "from aiapy.calibrate import register, update_pointing\n",
    "\n",
    "import os"
   ]
  },
  {
   "cell_type": "markdown",
   "metadata": {},
   "source": [
    "Use the SunPy tool [Fido](https://docs.sunpy.org/en/v3.0.1/guide/acquiring_data/fido.html) to find and download level 1 AIA data. \n",
    "\n"
   ]
  },
  {
   "cell_type": "code",
   "execution_count": 3,
   "metadata": {
    "jupyter": {
     "outputs_hidden": false
    }
   },
   "outputs": [
    {
     "data": {
      "application/vnd.jupyter.widget-view+json": {
       "model_id": "2dc8702a715845d498f26b561395a696",
       "version_major": 2,
       "version_minor": 0
      },
      "text/plain": [
       "Files Downloaded:   0%|          | 0/1 [00:00<?, ?file/s]"
      ]
     },
     "metadata": {},
     "output_type": "display_data"
    }
   ],
   "source": [
    "q = Fido.search(a.Time('2011-06-07T06:52:00', '2011-06-07T06:52:10'),\n",
    "                a.Instrument('AIA'),\n",
    "                a.Wavelength(wavemin=171*u.angstrom, wavemax=171*u.angstrom))\n",
    "aia_map = sunpy.map.Map(Fido.fetch(q))"
   ]
  },
  {
   "cell_type": "markdown",
   "metadata": {},
   "source": [
    "Convert to level 1.5 AIA data. See the [registering and aligning level 1 data](https://aiapy.readthedocs.io/en/latest/generated/gallery/prepping_level_1_data.html) example in aiapy documentation for more details. \n",
    "\n"
   ]
  },
  {
   "cell_type": "code",
   "execution_count": 4,
   "metadata": {
    "jupyter": {
     "outputs_hidden": false
    }
   },
   "outputs": [
    {
     "name": "stderr",
     "output_type": "stream",
     "text": [
      "WARNING: SunpyDeprecationWarning: The 'use_scipy' argument is deprecated. Specify the rotation method to the 'method' keyword argument instead. [sunpy.image.transform]\n"
     ]
    }
   ],
   "source": [
    "m_updated_pointing = update_pointing(aia_map)\n",
    "m_registered = register(m_updated_pointing)\n",
    "m_normalized = sunpy.map.Map(\n",
    "    m_registered.data/m_registered.exposure_time.to(u.s).value,\n",
    "    m_registered.meta)"
   ]
  },
  {
   "cell_type": "markdown",
   "metadata": {},
   "source": [
    "Compute the point-spread function (PSF) and use it to deconvolve the image.\n",
    "Warning: the PSF computation can take over 16 minutes on a CPU. If you have\n",
    "an NVIDIA GPU and CuPy installed, then PSF will automatically use it.\n",
    "See the [PSF documentation](https://aiapy.readthedocs.io/en/latest/api/aiapy.psf.psf.html) for details.\n",
    "\n"
   ]
  },
  {
   "cell_type": "code",
   "execution_count": 5,
   "metadata": {
    "jupyter": {
     "outputs_hidden": false
    }
   },
   "outputs": [
    {
     "ename": "ValueError",
     "evalue": "operands could not be broadcast together with shapes (4094,2048) (4096,2049) ",
     "output_type": "error",
     "traceback": [
      "\u001b[0;31m---------------------------------------------------------------------------\u001b[0m",
      "\u001b[0;31mValueError\u001b[0m                                Traceback (most recent call last)",
      "\u001b[0;32m/var/folders/4f/t664wvxn4nd8864qfqwknh7r008q5h/T/ipykernel_51108/2611943878.py\u001b[0m in \u001b[0;36m<module>\u001b[0;34m\u001b[0m\n\u001b[1;32m      1\u001b[0m \u001b[0mpsf\u001b[0m \u001b[0;34m=\u001b[0m \u001b[0mpsf_\u001b[0m\u001b[0;34m.\u001b[0m\u001b[0mpsf\u001b[0m\u001b[0;34m(\u001b[0m\u001b[0mm_normalized\u001b[0m\u001b[0;34m.\u001b[0m\u001b[0mwavelength\u001b[0m\u001b[0;34m)\u001b[0m\u001b[0;34m\u001b[0m\u001b[0;34m\u001b[0m\u001b[0m\n\u001b[0;32m----> 2\u001b[0;31m \u001b[0mmap_deconvolved\u001b[0m \u001b[0;34m=\u001b[0m \u001b[0mpsf_\u001b[0m\u001b[0;34m.\u001b[0m\u001b[0mdeconvolve\u001b[0m\u001b[0;34m(\u001b[0m\u001b[0mm_normalized\u001b[0m\u001b[0;34m,\u001b[0m \u001b[0mpsf\u001b[0m\u001b[0;34m=\u001b[0m\u001b[0mpsf\u001b[0m\u001b[0;34m)\u001b[0m\u001b[0;34m\u001b[0m\u001b[0;34m\u001b[0m\u001b[0m\n\u001b[0m",
      "\u001b[0;32m/usr/local/lib/python3.9/site-packages/aiapy/psf/deconvolve.py\u001b[0m in \u001b[0;36mdeconvolve\u001b[0;34m(smap, psf, iterations, clip_negative, use_gpu)\u001b[0m\n\u001b[1;32m     84\u001b[0m     \u001b[0mimg_decon\u001b[0m \u001b[0;34m=\u001b[0m \u001b[0mnp\u001b[0m\u001b[0;34m.\u001b[0m\u001b[0mcopy\u001b[0m\u001b[0;34m(\u001b[0m\u001b[0mimg\u001b[0m\u001b[0;34m)\u001b[0m\u001b[0;34m\u001b[0m\u001b[0;34m\u001b[0m\u001b[0m\n\u001b[1;32m     85\u001b[0m     \u001b[0;32mfor\u001b[0m \u001b[0m_\u001b[0m \u001b[0;32min\u001b[0m \u001b[0mrange\u001b[0m\u001b[0;34m(\u001b[0m\u001b[0miterations\u001b[0m\u001b[0;34m)\u001b[0m\u001b[0;34m:\u001b[0m\u001b[0;34m\u001b[0m\u001b[0;34m\u001b[0m\u001b[0m\n\u001b[0;32m---> 86\u001b[0;31m         \u001b[0mratio\u001b[0m \u001b[0;34m=\u001b[0m \u001b[0mimg\u001b[0m\u001b[0;34m/\u001b[0m\u001b[0mnp\u001b[0m\u001b[0;34m.\u001b[0m\u001b[0mfft\u001b[0m\u001b[0;34m.\u001b[0m\u001b[0mirfft2\u001b[0m\u001b[0;34m(\u001b[0m\u001b[0mnp\u001b[0m\u001b[0;34m.\u001b[0m\u001b[0mfft\u001b[0m\u001b[0;34m.\u001b[0m\u001b[0mrfft2\u001b[0m\u001b[0;34m(\u001b[0m\u001b[0mimg_decon\u001b[0m\u001b[0;34m)\u001b[0m\u001b[0;34m*\u001b[0m\u001b[0mpsf\u001b[0m\u001b[0;34m)\u001b[0m\u001b[0;34m\u001b[0m\u001b[0;34m\u001b[0m\u001b[0m\n\u001b[0m\u001b[1;32m     87\u001b[0m         \u001b[0mimg_decon\u001b[0m \u001b[0;34m=\u001b[0m \u001b[0mimg_decon\u001b[0m\u001b[0;34m*\u001b[0m\u001b[0mnp\u001b[0m\u001b[0;34m.\u001b[0m\u001b[0mfft\u001b[0m\u001b[0;34m.\u001b[0m\u001b[0mirfft2\u001b[0m\u001b[0;34m(\u001b[0m\u001b[0mnp\u001b[0m\u001b[0;34m.\u001b[0m\u001b[0mfft\u001b[0m\u001b[0;34m.\u001b[0m\u001b[0mrfft2\u001b[0m\u001b[0;34m(\u001b[0m\u001b[0mratio\u001b[0m\u001b[0;34m)\u001b[0m\u001b[0;34m*\u001b[0m\u001b[0mpsf_conj\u001b[0m\u001b[0;34m)\u001b[0m\u001b[0;34m\u001b[0m\u001b[0;34m\u001b[0m\u001b[0m\n\u001b[1;32m     88\u001b[0m \u001b[0;34m\u001b[0m\u001b[0m\n",
      "\u001b[0;31mValueError\u001b[0m: operands could not be broadcast together with shapes (4094,2048) (4096,2049) "
     ]
    }
   ],
   "source": [
    "psf = psf_.psf(m_normalized.wavelength)\n",
    "map_deconvolved = psf_.deconvolve(m_normalized, psf=psf)"
   ]
  },
  {
   "cell_type": "markdown",
   "metadata": {},
   "source": [
    "Save the deconvolved image as a FITS file without compression using SunPy.\n",
    "Note: this resulted in a 128 MB file while testing.\n",
    "\n"
   ]
  },
  {
   "cell_type": "code",
   "execution_count": null,
   "metadata": {
    "jupyter": {
     "outputs_hidden": false
    }
   },
   "outputs": [],
   "source": [
    "map_deconvolved.save('aia_map_deconv.fits')\n",
    "print(os.path.getsize('aia_map_deconv.fits'))\n",
    "\n",
    "# This time pass SunPy the `CompImagHDU <https://docs.astropy.org/en/stable/io/fits/api/images.html#compimagehdu>`_ compression routine from Astropy.\n",
    "sunpy.io.fits.write('aia_map_deconv_comp.fits', map_deconvolved.data,\n",
    "                    map_deconvolved.fits_header, hdu_type=CompImageHDU)\n",
    "print(os.path.getsize('aia_map_deconv_comp.fits'))"
   ]
  },
  {
   "cell_type": "code",
   "execution_count": null,
   "metadata": {},
   "outputs": [],
   "source": []
  },
  {
   "cell_type": "code",
   "execution_count": null,
   "metadata": {},
   "outputs": [],
   "source": []
  }
 ],
 "metadata": {
  "kernelspec": {
   "display_name": "pyhc",
   "language": "python",
   "name": "pyhc"
  },
  "language_info": {
   "codemirror_mode": {
    "name": "ipython",
    "version": 3
   },
   "file_extension": ".py",
   "mimetype": "text/x-python",
   "name": "python",
   "nbconvert_exporter": "python",
   "pygments_lexer": "ipython3",
   "version": "3.9.6"
  }
 },
 "nbformat": 4,
 "nbformat_minor": 4
}
