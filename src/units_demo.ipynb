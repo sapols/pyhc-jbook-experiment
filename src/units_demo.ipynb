{
 "cells": [
  {
   "cell_type": "markdown",
   "id": "954f7ad9",
   "metadata": {
    "cell_marker": "\"\"\""
   },
   "source": [
    "# Quantities, Units, and Constants\n",
    "\n",
    "The purpose of this demo is to demonstrate the capabilities of astropy\n",
    "`~astropy.units.Unit`, `~astropy.units.Quantity`, and `~astropy.units.Constant`."
   ]
  },
  {
   "cell_type": "markdown",
   "id": "414ca85c",
   "metadata": {
    "cell_marker": "##############################################################################",
    "lines_to_next_cell": 0
   },
   "source": [
    "The astropy `~astropy.units.Quantity` object\n",
    "handles defining, converting between, and performing arithmetic\n",
    "with physical quantities, such as meters, seconds, Hz, etc."
   ]
  },
  {
   "cell_type": "code",
   "execution_count": null,
   "id": "d24241a7",
   "metadata": {},
   "outputs": [],
   "source": [
    "from astropy import units as u\n",
    "import numpy as np"
   ]
  },
  {
   "cell_type": "markdown",
   "id": "b124b572",
   "metadata": {
    "cell_marker": "##############################################################################",
    "lines_to_next_cell": 0
   },
   "source": [
    "You can define a `~astropy.units.Quantity`\n",
    "(a number with a unit) in a number of different ways."
   ]
  },
  {
   "cell_type": "code",
   "execution_count": null,
   "id": "b7b723bc",
   "metadata": {},
   "outputs": [],
   "source": [
    "42.0 * u.meter\n",
    "[1., 2., 3.] * u.s\n",
    "np.arange(10) * u.Hz"
   ]
  },
  {
   "cell_type": "markdown",
   "id": "a3469702",
   "metadata": {
    "cell_marker": "##############################################################################",
    "lines_to_next_cell": 0
   },
   "source": [
    "These objects work as you would expect with most Python operators or numpy\n",
    "functions"
   ]
  },
  {
   "cell_type": "code",
   "execution_count": null,
   "id": "cbef037f",
   "metadata": {},
   "outputs": [],
   "source": [
    "np.power(2 * u.s, 3)\n",
    "(2 * u.s) ** 2"
   ]
  },
  {
   "cell_type": "markdown",
   "id": "d755d785",
   "metadata": {
    "cell_marker": "##############################################################################",
    "lines_to_next_cell": 0
   },
   "source": [
    "If needed you can get the value as well as the unit"
   ]
  },
  {
   "cell_type": "code",
   "execution_count": null,
   "id": "026a4da7",
   "metadata": {},
   "outputs": [],
   "source": [
    "q = 42.0 * u.meter\n",
    "print(\"The value is {0} and the unit is {1}\".format(q.value, q.unit))"
   ]
  },
  {
   "cell_type": "markdown",
   "id": "17f2f9b0",
   "metadata": {
    "cell_marker": "##############################################################################",
    "lines_to_next_cell": 0
   },
   "source": [
    "Using the `~astropy.units.Quantity.to` function we can easily converted to\n",
    "another unit."
   ]
  },
  {
   "cell_type": "code",
   "execution_count": null,
   "id": "fe56664a",
   "metadata": {},
   "outputs": [],
   "source": [
    "print(q.to('parsec'))"
   ]
  },
  {
   "cell_type": "markdown",
   "id": "50acbdd9",
   "metadata": {
    "cell_marker": "##############################################################################",
    "lines_to_next_cell": 0
   },
   "source": [
    "and imperial units as also supported"
   ]
  },
  {
   "cell_type": "code",
   "execution_count": null,
   "id": "b3f7a809",
   "metadata": {},
   "outputs": [],
   "source": [
    "from astropy.units import imperial\n",
    "print(q.to(imperial.mile))"
   ]
  },
  {
   "cell_type": "markdown",
   "id": "19062553",
   "metadata": {
    "cell_marker": "##############################################################################",
    "lines_to_next_cell": 0
   },
   "source": [
    "Units that “cancel out” become a special unit called the “dimensionless unit”:"
   ]
  },
  {
   "cell_type": "code",
   "execution_count": null,
   "id": "a91ec629",
   "metadata": {},
   "outputs": [],
   "source": [
    "u.m / u.m"
   ]
  },
  {
   "cell_type": "markdown",
   "id": "3d7ccbfe",
   "metadata": {
    "cell_marker": "##############################################################################",
    "lines_to_next_cell": 0
   },
   "source": [
    "More complex conversions are also supported using\n",
    "`~astropy.units.equivalencies`.\n",
    "For example, we can convert the GOES wavelength range to Hz or keV easily using\n",
    "the `~astropy.units.equivalencies.spectral`."
   ]
  },
  {
   "cell_type": "code",
   "execution_count": null,
   "id": "d5597e34",
   "metadata": {},
   "outputs": [],
   "source": [
    "print(([0.5, 4.0] * u.angstrom).to('Hz', u.spectral()))\n",
    "\n",
    "print(([0.5, 4.0] * u.angstrom).to('keV', u.spectral()))"
   ]
  },
  {
   "cell_type": "markdown",
   "id": "53428eb4",
   "metadata": {
    "cell_marker": "##############################################################################",
    "lines_to_next_cell": 0
   },
   "source": [
    "Astropy provides a number of reference constants"
   ]
  },
  {
   "cell_type": "code",
   "execution_count": null,
   "id": "7515bb71",
   "metadata": {},
   "outputs": [],
   "source": [
    "from astropy import constants as astropy_const"
   ]
  },
  {
   "cell_type": "markdown",
   "id": "88d3fd25",
   "metadata": {
    "cell_marker": "##############################################################################",
    "lines_to_next_cell": 0
   },
   "source": [
    "SunPy also provides a number of relevant solar reference constants."
   ]
  },
  {
   "cell_type": "code",
   "execution_count": null,
   "id": "c9a3c4ee",
   "metadata": {},
   "outputs": [],
   "source": [
    "from sunpy.sun import constants as sunpy_const"
   ]
  },
  {
   "cell_type": "markdown",
   "id": "4dec69a0",
   "metadata": {
    "cell_marker": "##############################################################################",
    "lines_to_next_cell": 0
   },
   "source": [
    "`~astropy.units.Constant` are simply quantities but they also provide an uncertainty\n",
    "and a reference"
   ]
  },
  {
   "cell_type": "code",
   "execution_count": null,
   "id": "290ebe66",
   "metadata": {},
   "outputs": [],
   "source": [
    "M_earth = astropy_const.M_earth\n",
    "print(\"The mass of the Earth is {0} +/- {1} {2} [ref {3}].\".format(M_earth.value, M_earth.uncertainty, M_earth.unit, M_earth.reference))"
   ]
  },
  {
   "cell_type": "markdown",
   "id": "17bbc79d",
   "metadata": {
    "cell_marker": "##############################################################################",
    "lines_to_next_cell": 0
   },
   "source": [
    "The light travel time in minutes from the Sun to the Earth can be calculated"
   ]
  },
  {
   "cell_type": "code",
   "execution_count": null,
   "id": "a2168b24",
   "metadata": {
    "lines_to_next_cell": 1
   },
   "outputs": [],
   "source": [
    "print((sunpy_const.au / astropy_const.c).to('min'))"
   ]
  },
  {
   "cell_type": "markdown",
   "id": "10cdecf1",
   "metadata": {
    "cell_marker": "##############################################################################",
    "lines_to_next_cell": 0
   },
   "source": [
    "Let's define a function to calculate the plasma beta, with quantities we\n",
    "don't have to worry about much beyond getting the equation correct"
   ]
  },
  {
   "cell_type": "code",
   "execution_count": null,
   "id": "909b5c68",
   "metadata": {
    "lines_to_next_cell": 1
   },
   "outputs": [],
   "source": [
    "def plasma_beta(n, T, B):\n",
    "    return (2 * n * astropy_const.k_B * T) / (B ** 2 / (2 * astropy_const.mu0))"
   ]
  },
  {
   "cell_type": "markdown",
   "id": "4e968260",
   "metadata": {
    "cell_marker": "##############################################################################",
    "lines_to_next_cell": 0
   },
   "source": [
    "The plasma beta for the solar corona using appropriate parameters is given\n",
    "by the following. The decompose function works to simplify the units."
   ]
  },
  {
   "cell_type": "code",
   "execution_count": null,
   "id": "299087ed",
   "metadata": {
    "lines_to_next_cell": 1
   },
   "outputs": [],
   "source": [
    "print(plasma_beta(1e9 * u.cm**-3, 3e6 * u.Kelvin, 10 * u.Gauss).decompose())"
   ]
  },
  {
   "cell_type": "markdown",
   "id": "f8006c07",
   "metadata": {
    "cell_marker": "##############################################################################"
   },
   "source": [
    "If the input is given in the wrong units then an error may occur but a better\n",
    "way is to inforce the units on input. Let's consider a simpler example here\n",
    "to calculate velocity. We use a function annotation to specify the units\n",
    "(this is a Python 3.5+ feature, see the `quantity_input <http://docs.astropy.org/en/stable/api/astropy.units.quantity_input.html#astropy.units.quantity_input>`_\n",
    "documentation for more details and Python 2 instructions):"
   ]
  },
  {
   "cell_type": "code",
   "execution_count": null,
   "id": "046678b1",
   "metadata": {},
   "outputs": [],
   "source": [
    "@u.quantity_input\n",
    "def speed(length: u.m, time: u.s):\n",
    "    return length / time"
   ]
  }
 ],
 "metadata": {
  "jupytext": {
   "cell_metadata_filter": "-all",
   "encoding": "# coding: utf-8",
   "main_language": "python",
   "notebook_metadata_filter": "-all"
  },
  "kernelspec": {
   "display_name": "Python 3 (ipykernel)",
   "language": "python",
   "name": "python3"
  },
  "language_info": {
   "codemirror_mode": {
    "name": "ipython",
    "version": 3
   },
   "file_extension": ".py",
   "mimetype": "text/x-python",
   "name": "python",
   "nbconvert_exporter": "python",
   "pygments_lexer": "ipython3",
   "version": "3.10.2"
  }
 },
 "nbformat": 4,
 "nbformat_minor": 5
}
